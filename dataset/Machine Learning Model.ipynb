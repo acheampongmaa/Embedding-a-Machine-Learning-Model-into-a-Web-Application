{
  "cells": [
    {
      "cell_type": "markdown",
      "metadata": {
        "colab_type": "text",
        "id": "view-in-github"
      },
      "source": [
        "<a href=\"https://colab.research.google.com/github/eaedk/Machine-Learning-Tutorials/blob/main/ML_Step_By_Step_Guide.ipynb\" target=\"_parent\"><img src=\"https://colab.research.google.com/assets/colab-badge.svg\" alt=\"Open In Colab\"/></a>"
      ]
    },
    {
      "cell_type": "markdown",
      "metadata": {
        "id": "wW3v1-2n3CzK"
      },
      "source": [
        "# Intro\n",
        "## General\n",
        "Machine learning allows the user to feed a computer algorithm an immense amount of data and have the computer analyze and make data-driven recommendations and decisions based on only the input data. \n",
        "In most of the situations we want to have a machine learning system to make **predictions**, so we have several categories of machine learning tasks depending on the type of prediction needed: **Classification, Regression, Clustering, Generation**, etc.\n",
        "\n",
        "**Classification** is the task whose goal is the prediction of the label of the class to which the input belongs (e.g., Classification of images in two classes: cats and dogs).\n",
        "**Regression** is the task whose goal is the prediction of numerical value(s) related to the input (e.g., House rent prediction, Estimated time of arrival ).\n",
        "**Generation** is the task whose goal is the creation of something new related to the input (e.g., Text translation, Audio beat generation, Image denoising ). **Clustering** is the task of grouping a set of objects in such a way that objects in the same group (called a **cluster**) are more similar (in some sense) to each other than to those in other **clusters** (e.g., Clients clutering).\n",
        "\n",
        "In machine learning, there are learning paradigms that relate to one aspect of the dataset: **the presence of the label to be predicted**. **Supervised Learning** is the paradigm of learning that is applied when the dataset has the label variables to be predicted, known as ` y variables`. **Unsupervised Learning** is the paradigm of learning that is applied when the dataset has not the label variables to be predicted. **Self-supervised Learning** is the paradigm of learning that is applied when part of the X dataset is considere as the label to be predicted (e.g., the Dataset is made of texts and the model try to predict the next word of each sentence).\n",
        "\n",
        "## Notebook overview\n",
        "\n",
        "This notebook is a guide to start practicing Machine Learning."
      ]
    },
    {
      "attachments": {},
      "cell_type": "markdown",
      "metadata": {},
      "source": [
        "### Data Understanding \n",
        "\n",
        "### Project Title: Building a Machine Learning Model to Predict Sepsis Status\n",
        "\n",
        "### Hypothesis\n",
        "### Null Hypothesis: Patients within the age range of 20 to 40 have sepsis\n",
        "### Alternate Hypothesis: Patients withing the age range of 20 to 40 do not have sepsis\n",
        "\n",
        "### Research Questions\n",
        "1. Is there any correlation between the various features and the sepsis status?\n",
        "2. Which age range has the highest number of positive sepsis status?\n",
        "3. Are the variations in the different blood work results?\n",
        "4. Which of the features are hightly correlated? \n",
        "5. Do they contribute to the sepsis status?"
      ]
    },
    {
      "cell_type": "markdown",
      "metadata": {
        "id": "n4VFUnkuexCE"
      },
      "source": [
        "# Setup"
      ]
    },
    {
      "cell_type": "markdown",
      "metadata": {
        "id": "qdFpRxPje1gw"
      },
      "source": [
        "## Installation\n",
        "Here is the section to install all the packages/libraries that will be needed to tackle the challlenge."
      ]
    },
    {
      "cell_type": "code",
      "execution_count": 27,
      "metadata": {
        "id": "W-d-roFQe6yi"
      },
      "outputs": [
        {
          "name": "stdout",
          "output_type": "stream",
          "text": [
            "Requirement already satisfied: plotly in c:\\users\\user\\appdata\\local\\packages\\pythonsoftwarefoundation.python.3.9_qbz5n2kfra8p0\\localcache\\local-packages\\python39\\site-packages (5.14.1)\n",
            "Requirement already satisfied: tenacity>=6.2.0 in c:\\users\\user\\appdata\\local\\packages\\pythonsoftwarefoundation.python.3.9_qbz5n2kfra8p0\\localcache\\local-packages\\python39\\site-packages (from plotly) (8.2.2)\n",
            "Requirement already satisfied: packaging in c:\\users\\user\\appdata\\local\\packages\\pythonsoftwarefoundation.python.3.9_qbz5n2kfra8p0\\localcache\\local-packages\\python39\\site-packages (from plotly) (23.0)\n",
            "Note: you may need to restart the kernel to use updated packages.\n"
          ]
        },
        {
          "name": "stderr",
          "output_type": "stream",
          "text": [
            "\n",
            "[notice] A new release of pip is available: 23.1.1 -> 23.1.2\n",
            "[notice] To update, run: C:\\Users\\USER\\AppData\\Local\\Microsoft\\WindowsApps\\PythonSoftwareFoundation.Python.3.9_qbz5n2kfra8p0\\python.exe -m pip install --upgrade pip\n"
          ]
        }
      ],
      "source": [
        "# !pip install -q <lib_001> <lib_002> ...\n",
        "%pip install plotly"
      ]
    },
    {
      "cell_type": "markdown",
      "metadata": {
        "id": "0HmLxlQre7HW"
      },
      "source": [
        "## Importation\n",
        "Here is the section to import all the packages/libraries that will be used through this notebook."
      ]
    },
    {
      "cell_type": "code",
      "execution_count": 28,
      "metadata": {
        "id": "MP62JaiKfCnS"
      },
      "outputs": [],
      "source": [
        "# Data handling\n",
        "import pandas as pd\n",
        "import numpy as np\n",
        "\n",
        "# Vizualisation (Matplotlib, Plotly, Seaborn, etc. )\n",
        "import seaborn as sns\n",
        "import matplotlib.pyplot as plt\n",
        "import plotly.express as px\n",
        "from pandas.plotting import scatter_matrix\n",
        "\n",
        "\n",
        "# Feature Processing (Scikit-learn processing, etc. )\n",
        "...\n",
        "\n",
        "# Machine Learning (Scikit-learn Estimators, Catboost, LightGBM, etc. )\n",
        "...\n",
        "\n",
        "# Hyperparameters Fine-tuning (Scikit-learn hp search, cross-validation, etc. )\n",
        "...\n",
        "\n",
        "# Other packages\n",
        "import os\n",
        "\n",
        "#importing warning\n",
        "import warnings\n",
        "warnings.filterwarnings('ignore')\n"
      ]
    },
    {
      "cell_type": "markdown",
      "metadata": {
        "id": "UfOADQf0e9i1"
      },
      "source": [
        "# Data Loading\n",
        "Here is the section to load the datasets (train, eval, test) and the additional files"
      ]
    },
    {
      "cell_type": "code",
      "execution_count": 29,
      "metadata": {
        "id": "KIQyG5EcfQlU"
      },
      "outputs": [],
      "source": [
        "# For CSV, use pandas.read_csv\n",
        "# loading train and test data\n",
        "train_data=pd.read_csv('Paitients_Files_Train.csv')\n",
        "test_data=pd.read_csv('Paitients_Files_Test.csv')"
      ]
    },
    {
      "cell_type": "markdown",
      "metadata": {
        "id": "okaZxnc3fRId"
      },
      "source": [
        "# Exploratory Data Analysis: EDA\n",
        "Here is the section to **inspect** the datasets in depth, **present** it, make **hypotheses** and **think** the *cleaning, processing and features creation*."
      ]
    },
    {
      "cell_type": "code",
      "execution_count": 30,
      "metadata": {
        "id": "0VNR9LfZfbGe"
      },
      "outputs": [
        {
          "data": {
            "text/html": [
              "<div>\n",
              "<style scoped>\n",
              "    .dataframe tbody tr th:only-of-type {\n",
              "        vertical-align: middle;\n",
              "    }\n",
              "\n",
              "    .dataframe tbody tr th {\n",
              "        vertical-align: top;\n",
              "    }\n",
              "\n",
              "    .dataframe thead th {\n",
              "        text-align: right;\n",
              "    }\n",
              "</style>\n",
              "<table border=\"1\" class=\"dataframe\">\n",
              "  <thead>\n",
              "    <tr style=\"text-align: right;\">\n",
              "      <th></th>\n",
              "      <th>ID</th>\n",
              "      <th>PRG</th>\n",
              "      <th>PL</th>\n",
              "      <th>PR</th>\n",
              "      <th>SK</th>\n",
              "      <th>TS</th>\n",
              "      <th>M11</th>\n",
              "      <th>BD2</th>\n",
              "      <th>Age</th>\n",
              "      <th>Insurance</th>\n",
              "      <th>Sepssis</th>\n",
              "    </tr>\n",
              "  </thead>\n",
              "  <tbody>\n",
              "    <tr>\n",
              "      <th>0</th>\n",
              "      <td>ICU200010</td>\n",
              "      <td>6</td>\n",
              "      <td>148</td>\n",
              "      <td>72</td>\n",
              "      <td>35</td>\n",
              "      <td>0</td>\n",
              "      <td>33.6</td>\n",
              "      <td>0.627</td>\n",
              "      <td>50</td>\n",
              "      <td>0</td>\n",
              "      <td>Positive</td>\n",
              "    </tr>\n",
              "    <tr>\n",
              "      <th>1</th>\n",
              "      <td>ICU200011</td>\n",
              "      <td>1</td>\n",
              "      <td>85</td>\n",
              "      <td>66</td>\n",
              "      <td>29</td>\n",
              "      <td>0</td>\n",
              "      <td>26.6</td>\n",
              "      <td>0.351</td>\n",
              "      <td>31</td>\n",
              "      <td>0</td>\n",
              "      <td>Negative</td>\n",
              "    </tr>\n",
              "    <tr>\n",
              "      <th>2</th>\n",
              "      <td>ICU200012</td>\n",
              "      <td>8</td>\n",
              "      <td>183</td>\n",
              "      <td>64</td>\n",
              "      <td>0</td>\n",
              "      <td>0</td>\n",
              "      <td>23.3</td>\n",
              "      <td>0.672</td>\n",
              "      <td>32</td>\n",
              "      <td>1</td>\n",
              "      <td>Positive</td>\n",
              "    </tr>\n",
              "    <tr>\n",
              "      <th>3</th>\n",
              "      <td>ICU200013</td>\n",
              "      <td>1</td>\n",
              "      <td>89</td>\n",
              "      <td>66</td>\n",
              "      <td>23</td>\n",
              "      <td>94</td>\n",
              "      <td>28.1</td>\n",
              "      <td>0.167</td>\n",
              "      <td>21</td>\n",
              "      <td>1</td>\n",
              "      <td>Negative</td>\n",
              "    </tr>\n",
              "    <tr>\n",
              "      <th>4</th>\n",
              "      <td>ICU200014</td>\n",
              "      <td>0</td>\n",
              "      <td>137</td>\n",
              "      <td>40</td>\n",
              "      <td>35</td>\n",
              "      <td>168</td>\n",
              "      <td>43.1</td>\n",
              "      <td>2.288</td>\n",
              "      <td>33</td>\n",
              "      <td>1</td>\n",
              "      <td>Positive</td>\n",
              "    </tr>\n",
              "  </tbody>\n",
              "</table>\n",
              "</div>"
            ],
            "text/plain": [
              "          ID  PRG   PL  PR  SK   TS   M11    BD2  Age  Insurance   Sepssis\n",
              "0  ICU200010    6  148  72  35    0  33.6  0.627   50          0  Positive\n",
              "1  ICU200011    1   85  66  29    0  26.6  0.351   31          0  Negative\n",
              "2  ICU200012    8  183  64   0    0  23.3  0.672   32          1  Positive\n",
              "3  ICU200013    1   89  66  23   94  28.1  0.167   21          1  Negative\n",
              "4  ICU200014    0  137  40  35  168  43.1  2.288   33          1  Positive"
            ]
          },
          "execution_count": 30,
          "metadata": {},
          "output_type": "execute_result"
        }
      ],
      "source": [
        "# checking the train dataset\n",
        "train_data.head()"
      ]
    },
    {
      "cell_type": "code",
      "execution_count": 31,
      "metadata": {},
      "outputs": [
        {
          "name": "stdout",
          "output_type": "stream",
          "text": [
            "<class 'pandas.core.frame.DataFrame'>\n",
            "RangeIndex: 599 entries, 0 to 598\n",
            "Data columns (total 11 columns):\n",
            " #   Column     Non-Null Count  Dtype  \n",
            "---  ------     --------------  -----  \n",
            " 0   ID         599 non-null    object \n",
            " 1   PRG        599 non-null    int64  \n",
            " 2   PL         599 non-null    int64  \n",
            " 3   PR         599 non-null    int64  \n",
            " 4   SK         599 non-null    int64  \n",
            " 5   TS         599 non-null    int64  \n",
            " 6   M11        599 non-null    float64\n",
            " 7   BD2        599 non-null    float64\n",
            " 8   Age        599 non-null    int64  \n",
            " 9   Insurance  599 non-null    int64  \n",
            " 10  Sepssis    599 non-null    object \n",
            "dtypes: float64(2), int64(7), object(2)\n",
            "memory usage: 51.6+ KB\n"
          ]
        }
      ],
      "source": [
        "#check data info\n",
        "train_data.info()"
      ]
    },
    {
      "cell_type": "code",
      "execution_count": 32,
      "metadata": {},
      "outputs": [
        {
          "data": {
            "text/plain": [
              "(599, 11)"
            ]
          },
          "execution_count": 32,
          "metadata": {},
          "output_type": "execute_result"
        }
      ],
      "source": [
        "#check shape of data\n",
        "train_data.shape"
      ]
    },
    {
      "cell_type": "code",
      "execution_count": 33,
      "metadata": {},
      "outputs": [
        {
          "data": {
            "text/plain": [
              "ID           0\n",
              "PRG          0\n",
              "PL           0\n",
              "PR           0\n",
              "SK           0\n",
              "TS           0\n",
              "M11          0\n",
              "BD2          0\n",
              "Age          0\n",
              "Insurance    0\n",
              "Sepssis      0\n",
              "dtype: int64"
            ]
          },
          "execution_count": 33,
          "metadata": {},
          "output_type": "execute_result"
        }
      ],
      "source": [
        "#check null values\n",
        "train_data.isnull().sum()"
      ]
    },
    {
      "cell_type": "code",
      "execution_count": 34,
      "metadata": {},
      "outputs": [
        {
          "data": {
            "text/plain": [
              "0"
            ]
          },
          "execution_count": 34,
          "metadata": {},
          "output_type": "execute_result"
        }
      ],
      "source": [
        "#check for duplicates\n",
        "train_data.duplicated().sum()"
      ]
    },
    {
      "cell_type": "code",
      "execution_count": 35,
      "metadata": {},
      "outputs": [
        {
          "data": {
            "text/plain": [
              "ID           599\n",
              "PRG           17\n",
              "PL           129\n",
              "PR            44\n",
              "SK            51\n",
              "TS           164\n",
              "M11          233\n",
              "BD2          437\n",
              "Age           50\n",
              "Insurance      2\n",
              "Sepssis        2\n",
              "dtype: int64"
            ]
          },
          "execution_count": 35,
          "metadata": {},
          "output_type": "execute_result"
        }
      ],
      "source": [
        "#check unique values\n",
        "train_data.nunique()"
      ]
    },
    {
      "cell_type": "code",
      "execution_count": 36,
      "metadata": {},
      "outputs": [],
      "source": [
        "#renaming column names to make it understandable\n",
        "\n",
        "train_data.rename(columns = {'PRG':'Plasma glucose', 'PL':'Blood Work Result-1',\n",
        "                              'PR':'Blood Pressure', 'SK':'Blood Work Result-2', 'TS':'Blood Work Result-3', 'M11':'Body mass index', \n",
        "                             'BD2':'Blood Work Result-4','Sepssis':'Sepsis'}, inplace = True)"
      ]
    },
    {
      "cell_type": "code",
      "execution_count": 37,
      "metadata": {},
      "outputs": [
        {
          "data": {
            "text/html": [
              "<div>\n",
              "<style scoped>\n",
              "    .dataframe tbody tr th:only-of-type {\n",
              "        vertical-align: middle;\n",
              "    }\n",
              "\n",
              "    .dataframe tbody tr th {\n",
              "        vertical-align: top;\n",
              "    }\n",
              "\n",
              "    .dataframe thead th {\n",
              "        text-align: right;\n",
              "    }\n",
              "</style>\n",
              "<table border=\"1\" class=\"dataframe\">\n",
              "  <thead>\n",
              "    <tr style=\"text-align: right;\">\n",
              "      <th></th>\n",
              "      <th>ID</th>\n",
              "      <th>Plasma glucose</th>\n",
              "      <th>Blood Work Result-1</th>\n",
              "      <th>Blood Pressure</th>\n",
              "      <th>Blood Work Result-2</th>\n",
              "      <th>Blood Work Result-3</th>\n",
              "      <th>Body mass index</th>\n",
              "      <th>Blood Work Result-4</th>\n",
              "      <th>Age</th>\n",
              "      <th>Insurance</th>\n",
              "      <th>Sepsis</th>\n",
              "    </tr>\n",
              "  </thead>\n",
              "  <tbody>\n",
              "    <tr>\n",
              "      <th>0</th>\n",
              "      <td>ICU200010</td>\n",
              "      <td>6</td>\n",
              "      <td>148</td>\n",
              "      <td>72</td>\n",
              "      <td>35</td>\n",
              "      <td>0</td>\n",
              "      <td>33.6</td>\n",
              "      <td>0.627</td>\n",
              "      <td>50</td>\n",
              "      <td>0</td>\n",
              "      <td>Positive</td>\n",
              "    </tr>\n",
              "    <tr>\n",
              "      <th>1</th>\n",
              "      <td>ICU200011</td>\n",
              "      <td>1</td>\n",
              "      <td>85</td>\n",
              "      <td>66</td>\n",
              "      <td>29</td>\n",
              "      <td>0</td>\n",
              "      <td>26.6</td>\n",
              "      <td>0.351</td>\n",
              "      <td>31</td>\n",
              "      <td>0</td>\n",
              "      <td>Negative</td>\n",
              "    </tr>\n",
              "    <tr>\n",
              "      <th>2</th>\n",
              "      <td>ICU200012</td>\n",
              "      <td>8</td>\n",
              "      <td>183</td>\n",
              "      <td>64</td>\n",
              "      <td>0</td>\n",
              "      <td>0</td>\n",
              "      <td>23.3</td>\n",
              "      <td>0.672</td>\n",
              "      <td>32</td>\n",
              "      <td>1</td>\n",
              "      <td>Positive</td>\n",
              "    </tr>\n",
              "    <tr>\n",
              "      <th>3</th>\n",
              "      <td>ICU200013</td>\n",
              "      <td>1</td>\n",
              "      <td>89</td>\n",
              "      <td>66</td>\n",
              "      <td>23</td>\n",
              "      <td>94</td>\n",
              "      <td>28.1</td>\n",
              "      <td>0.167</td>\n",
              "      <td>21</td>\n",
              "      <td>1</td>\n",
              "      <td>Negative</td>\n",
              "    </tr>\n",
              "    <tr>\n",
              "      <th>4</th>\n",
              "      <td>ICU200014</td>\n",
              "      <td>0</td>\n",
              "      <td>137</td>\n",
              "      <td>40</td>\n",
              "      <td>35</td>\n",
              "      <td>168</td>\n",
              "      <td>43.1</td>\n",
              "      <td>2.288</td>\n",
              "      <td>33</td>\n",
              "      <td>1</td>\n",
              "      <td>Positive</td>\n",
              "    </tr>\n",
              "  </tbody>\n",
              "</table>\n",
              "</div>"
            ],
            "text/plain": [
              "          ID  Plasma glucose  Blood Work Result-1  Blood Pressure   \n",
              "0  ICU200010               6                  148              72  \\\n",
              "1  ICU200011               1                   85              66   \n",
              "2  ICU200012               8                  183              64   \n",
              "3  ICU200013               1                   89              66   \n",
              "4  ICU200014               0                  137              40   \n",
              "\n",
              "   Blood Work Result-2  Blood Work Result-3  Body mass index   \n",
              "0                   35                    0             33.6  \\\n",
              "1                   29                    0             26.6   \n",
              "2                    0                    0             23.3   \n",
              "3                   23                   94             28.1   \n",
              "4                   35                  168             43.1   \n",
              "\n",
              "   Blood Work Result-4  Age  Insurance    Sepsis  \n",
              "0                0.627   50          0  Positive  \n",
              "1                0.351   31          0  Negative  \n",
              "2                0.672   32          1  Positive  \n",
              "3                0.167   21          1  Negative  \n",
              "4                2.288   33          1  Positive  "
            ]
          },
          "execution_count": 37,
          "metadata": {},
          "output_type": "execute_result"
        }
      ],
      "source": [
        "#check renamed columns\n",
        "train_data.head()"
      ]
    },
    {
      "attachments": {},
      "cell_type": "markdown",
      "metadata": {},
      "source": [
        "### Summary of train data information\n",
        "1. There are 599 rows and 11 columns\n",
        "2. There are no null values and duplicates\n",
        "3. There are 599 unique values in the ID column, 2 unique values in both Insurance and Sepsis column\n",
        "4. Abbreviated names were renamed for more clarity"
      ]
    },
    {
      "cell_type": "code",
      "execution_count": 38,
      "metadata": {},
      "outputs": [
        {
          "data": {
            "text/html": [
              "<div>\n",
              "<style scoped>\n",
              "    .dataframe tbody tr th:only-of-type {\n",
              "        vertical-align: middle;\n",
              "    }\n",
              "\n",
              "    .dataframe tbody tr th {\n",
              "        vertical-align: top;\n",
              "    }\n",
              "\n",
              "    .dataframe thead th {\n",
              "        text-align: right;\n",
              "    }\n",
              "</style>\n",
              "<table border=\"1\" class=\"dataframe\">\n",
              "  <thead>\n",
              "    <tr style=\"text-align: right;\">\n",
              "      <th></th>\n",
              "      <th>ID</th>\n",
              "      <th>PRG</th>\n",
              "      <th>PL</th>\n",
              "      <th>PR</th>\n",
              "      <th>SK</th>\n",
              "      <th>TS</th>\n",
              "      <th>M11</th>\n",
              "      <th>BD2</th>\n",
              "      <th>Age</th>\n",
              "      <th>Insurance</th>\n",
              "    </tr>\n",
              "  </thead>\n",
              "  <tbody>\n",
              "    <tr>\n",
              "      <th>0</th>\n",
              "      <td>ICU200609</td>\n",
              "      <td>1</td>\n",
              "      <td>109</td>\n",
              "      <td>38</td>\n",
              "      <td>18</td>\n",
              "      <td>120</td>\n",
              "      <td>23.1</td>\n",
              "      <td>0.407</td>\n",
              "      <td>26</td>\n",
              "      <td>1</td>\n",
              "    </tr>\n",
              "    <tr>\n",
              "      <th>1</th>\n",
              "      <td>ICU200610</td>\n",
              "      <td>1</td>\n",
              "      <td>108</td>\n",
              "      <td>88</td>\n",
              "      <td>19</td>\n",
              "      <td>0</td>\n",
              "      <td>27.1</td>\n",
              "      <td>0.400</td>\n",
              "      <td>24</td>\n",
              "      <td>1</td>\n",
              "    </tr>\n",
              "    <tr>\n",
              "      <th>2</th>\n",
              "      <td>ICU200611</td>\n",
              "      <td>6</td>\n",
              "      <td>96</td>\n",
              "      <td>0</td>\n",
              "      <td>0</td>\n",
              "      <td>0</td>\n",
              "      <td>23.7</td>\n",
              "      <td>0.190</td>\n",
              "      <td>28</td>\n",
              "      <td>1</td>\n",
              "    </tr>\n",
              "    <tr>\n",
              "      <th>3</th>\n",
              "      <td>ICU200612</td>\n",
              "      <td>1</td>\n",
              "      <td>124</td>\n",
              "      <td>74</td>\n",
              "      <td>36</td>\n",
              "      <td>0</td>\n",
              "      <td>27.8</td>\n",
              "      <td>0.100</td>\n",
              "      <td>30</td>\n",
              "      <td>1</td>\n",
              "    </tr>\n",
              "    <tr>\n",
              "      <th>4</th>\n",
              "      <td>ICU200613</td>\n",
              "      <td>7</td>\n",
              "      <td>150</td>\n",
              "      <td>78</td>\n",
              "      <td>29</td>\n",
              "      <td>126</td>\n",
              "      <td>35.2</td>\n",
              "      <td>0.692</td>\n",
              "      <td>54</td>\n",
              "      <td>0</td>\n",
              "    </tr>\n",
              "  </tbody>\n",
              "</table>\n",
              "</div>"
            ],
            "text/plain": [
              "          ID  PRG   PL  PR  SK   TS   M11    BD2  Age  Insurance\n",
              "0  ICU200609    1  109  38  18  120  23.1  0.407   26          1\n",
              "1  ICU200610    1  108  88  19    0  27.1  0.400   24          1\n",
              "2  ICU200611    6   96   0   0    0  23.7  0.190   28          1\n",
              "3  ICU200612    1  124  74  36    0  27.8  0.100   30          1\n",
              "4  ICU200613    7  150  78  29  126  35.2  0.692   54          0"
            ]
          },
          "execution_count": 38,
          "metadata": {},
          "output_type": "execute_result"
        }
      ],
      "source": [
        "#checking test dataset\n",
        "test_data.head()"
      ]
    },
    {
      "cell_type": "code",
      "execution_count": 39,
      "metadata": {},
      "outputs": [
        {
          "name": "stdout",
          "output_type": "stream",
          "text": [
            "<class 'pandas.core.frame.DataFrame'>\n",
            "RangeIndex: 169 entries, 0 to 168\n",
            "Data columns (total 10 columns):\n",
            " #   Column     Non-Null Count  Dtype  \n",
            "---  ------     --------------  -----  \n",
            " 0   ID         169 non-null    object \n",
            " 1   PRG        169 non-null    int64  \n",
            " 2   PL         169 non-null    int64  \n",
            " 3   PR         169 non-null    int64  \n",
            " 4   SK         169 non-null    int64  \n",
            " 5   TS         169 non-null    int64  \n",
            " 6   M11        169 non-null    float64\n",
            " 7   BD2        169 non-null    float64\n",
            " 8   Age        169 non-null    int64  \n",
            " 9   Insurance  169 non-null    int64  \n",
            "dtypes: float64(2), int64(7), object(1)\n",
            "memory usage: 13.3+ KB\n"
          ]
        }
      ],
      "source": [
        "#check test data info\n",
        "test_data.info()"
      ]
    },
    {
      "cell_type": "code",
      "execution_count": 40,
      "metadata": {},
      "outputs": [
        {
          "data": {
            "text/plain": [
              "(169, 10)"
            ]
          },
          "execution_count": 40,
          "metadata": {},
          "output_type": "execute_result"
        }
      ],
      "source": [
        "#check shape of test data\n",
        "test_data.shape"
      ]
    },
    {
      "cell_type": "code",
      "execution_count": 41,
      "metadata": {},
      "outputs": [
        {
          "data": {
            "text/plain": [
              "ID           0\n",
              "PRG          0\n",
              "PL           0\n",
              "PR           0\n",
              "SK           0\n",
              "TS           0\n",
              "M11          0\n",
              "BD2          0\n",
              "Age          0\n",
              "Insurance    0\n",
              "dtype: int64"
            ]
          },
          "execution_count": 41,
          "metadata": {},
          "output_type": "execute_result"
        }
      ],
      "source": [
        "#check null values\n",
        "test_data.isnull().sum()"
      ]
    },
    {
      "cell_type": "code",
      "execution_count": 42,
      "metadata": {},
      "outputs": [
        {
          "data": {
            "text/plain": [
              "0"
            ]
          },
          "execution_count": 42,
          "metadata": {},
          "output_type": "execute_result"
        }
      ],
      "source": [
        "#check duplicates in test data\n",
        "test_data.duplicated().sum()"
      ]
    },
    {
      "cell_type": "code",
      "execution_count": 43,
      "metadata": {},
      "outputs": [
        {
          "data": {
            "text/plain": [
              "ID           169\n",
              "PRG           14\n",
              "PL            85\n",
              "PR            33\n",
              "SK            36\n",
              "TS            66\n",
              "M11          122\n",
              "BD2          156\n",
              "Age           39\n",
              "Insurance      2\n",
              "dtype: int64"
            ]
          },
          "execution_count": 43,
          "metadata": {},
          "output_type": "execute_result"
        }
      ],
      "source": [
        "#check unique values\n",
        "test_data.nunique()"
      ]
    },
    {
      "cell_type": "code",
      "execution_count": 44,
      "metadata": {},
      "outputs": [
        {
          "data": {
            "text/html": [
              "<div>\n",
              "<style scoped>\n",
              "    .dataframe tbody tr th:only-of-type {\n",
              "        vertical-align: middle;\n",
              "    }\n",
              "\n",
              "    .dataframe tbody tr th {\n",
              "        vertical-align: top;\n",
              "    }\n",
              "\n",
              "    .dataframe thead th {\n",
              "        text-align: right;\n",
              "    }\n",
              "</style>\n",
              "<table border=\"1\" class=\"dataframe\">\n",
              "  <thead>\n",
              "    <tr style=\"text-align: right;\">\n",
              "      <th></th>\n",
              "      <th>ID</th>\n",
              "      <th>Plasma glucose</th>\n",
              "      <th>Blood Work Result-1</th>\n",
              "      <th>Blood Pressure</th>\n",
              "      <th>Blood Work Result-2</th>\n",
              "      <th>Blood Work Result-3</th>\n",
              "      <th>Body mass index</th>\n",
              "      <th>Blood Work Result-4</th>\n",
              "      <th>Age</th>\n",
              "      <th>Insurance</th>\n",
              "    </tr>\n",
              "  </thead>\n",
              "  <tbody>\n",
              "    <tr>\n",
              "      <th>0</th>\n",
              "      <td>ICU200609</td>\n",
              "      <td>1</td>\n",
              "      <td>109</td>\n",
              "      <td>38</td>\n",
              "      <td>18</td>\n",
              "      <td>120</td>\n",
              "      <td>23.1</td>\n",
              "      <td>0.407</td>\n",
              "      <td>26</td>\n",
              "      <td>1</td>\n",
              "    </tr>\n",
              "    <tr>\n",
              "      <th>1</th>\n",
              "      <td>ICU200610</td>\n",
              "      <td>1</td>\n",
              "      <td>108</td>\n",
              "      <td>88</td>\n",
              "      <td>19</td>\n",
              "      <td>0</td>\n",
              "      <td>27.1</td>\n",
              "      <td>0.400</td>\n",
              "      <td>24</td>\n",
              "      <td>1</td>\n",
              "    </tr>\n",
              "    <tr>\n",
              "      <th>2</th>\n",
              "      <td>ICU200611</td>\n",
              "      <td>6</td>\n",
              "      <td>96</td>\n",
              "      <td>0</td>\n",
              "      <td>0</td>\n",
              "      <td>0</td>\n",
              "      <td>23.7</td>\n",
              "      <td>0.190</td>\n",
              "      <td>28</td>\n",
              "      <td>1</td>\n",
              "    </tr>\n",
              "    <tr>\n",
              "      <th>3</th>\n",
              "      <td>ICU200612</td>\n",
              "      <td>1</td>\n",
              "      <td>124</td>\n",
              "      <td>74</td>\n",
              "      <td>36</td>\n",
              "      <td>0</td>\n",
              "      <td>27.8</td>\n",
              "      <td>0.100</td>\n",
              "      <td>30</td>\n",
              "      <td>1</td>\n",
              "    </tr>\n",
              "    <tr>\n",
              "      <th>4</th>\n",
              "      <td>ICU200613</td>\n",
              "      <td>7</td>\n",
              "      <td>150</td>\n",
              "      <td>78</td>\n",
              "      <td>29</td>\n",
              "      <td>126</td>\n",
              "      <td>35.2</td>\n",
              "      <td>0.692</td>\n",
              "      <td>54</td>\n",
              "      <td>0</td>\n",
              "    </tr>\n",
              "  </tbody>\n",
              "</table>\n",
              "</div>"
            ],
            "text/plain": [
              "          ID  Plasma glucose  Blood Work Result-1  Blood Pressure   \n",
              "0  ICU200609               1                  109              38  \\\n",
              "1  ICU200610               1                  108              88   \n",
              "2  ICU200611               6                   96               0   \n",
              "3  ICU200612               1                  124              74   \n",
              "4  ICU200613               7                  150              78   \n",
              "\n",
              "   Blood Work Result-2  Blood Work Result-3  Body mass index   \n",
              "0                   18                  120             23.1  \\\n",
              "1                   19                    0             27.1   \n",
              "2                    0                    0             23.7   \n",
              "3                   36                    0             27.8   \n",
              "4                   29                  126             35.2   \n",
              "\n",
              "   Blood Work Result-4  Age  Insurance  \n",
              "0                0.407   26          1  \n",
              "1                0.400   24          1  \n",
              "2                0.190   28          1  \n",
              "3                0.100   30          1  \n",
              "4                0.692   54          0  "
            ]
          },
          "execution_count": 44,
          "metadata": {},
          "output_type": "execute_result"
        }
      ],
      "source": [
        "#rename columns\n",
        "test_data.rename(columns = {'PRG':'Plasma glucose', 'PL':'Blood Work Result-1',\n",
        "                              'PR':'Blood Pressure', 'SK':'Blood Work Result-2', 'TS':'Blood Work Result-3', 'M11':'Body mass index', \n",
        "                             'BD2':'Blood Work Result-4'}, inplace = True)\n",
        "test_data.head()"
      ]
    },
    {
      "attachments": {},
      "cell_type": "markdown",
      "metadata": {},
      "source": [
        "### Summary of test data information\n",
        "1. There are 169 rows and 11 columns\n",
        "2. There are no null values and duplicates\n",
        "3. There are 169 unique values in the ID column, 2 unique values in Insurance column\n",
        "4. Abbreviated names were renamed for more clarity"
      ]
    },
    {
      "attachments": {},
      "cell_type": "markdown",
      "metadata": {},
      "source": [
        "### Answering Research Questions"
      ]
    },
    {
      "cell_type": "code",
      "execution_count": 45,
      "metadata": {},
      "outputs": [
        {
          "data": {
            "text/html": [
              "<div>\n",
              "<style scoped>\n",
              "    .dataframe tbody tr th:only-of-type {\n",
              "        vertical-align: middle;\n",
              "    }\n",
              "\n",
              "    .dataframe tbody tr th {\n",
              "        vertical-align: top;\n",
              "    }\n",
              "\n",
              "    .dataframe thead th {\n",
              "        text-align: right;\n",
              "    }\n",
              "</style>\n",
              "<table border=\"1\" class=\"dataframe\">\n",
              "  <thead>\n",
              "    <tr style=\"text-align: right;\">\n",
              "      <th></th>\n",
              "      <th>Plasma glucose</th>\n",
              "      <th>Blood Work Result-1</th>\n",
              "      <th>Blood Pressure</th>\n",
              "      <th>Blood Work Result-2</th>\n",
              "      <th>Blood Work Result-3</th>\n",
              "      <th>Body mass index</th>\n",
              "      <th>Blood Work Result-4</th>\n",
              "      <th>Age</th>\n",
              "      <th>Insurance</th>\n",
              "    </tr>\n",
              "  </thead>\n",
              "  <tbody>\n",
              "    <tr>\n",
              "      <th>count</th>\n",
              "      <td>599.000000</td>\n",
              "      <td>599.000000</td>\n",
              "      <td>599.000000</td>\n",
              "      <td>599.000000</td>\n",
              "      <td>599.000000</td>\n",
              "      <td>599.000000</td>\n",
              "      <td>599.000000</td>\n",
              "      <td>599.000000</td>\n",
              "      <td>599.000000</td>\n",
              "    </tr>\n",
              "    <tr>\n",
              "      <th>mean</th>\n",
              "      <td>3.824708</td>\n",
              "      <td>120.153589</td>\n",
              "      <td>68.732888</td>\n",
              "      <td>20.562604</td>\n",
              "      <td>79.460768</td>\n",
              "      <td>31.920033</td>\n",
              "      <td>0.481187</td>\n",
              "      <td>33.290484</td>\n",
              "      <td>0.686144</td>\n",
              "    </tr>\n",
              "    <tr>\n",
              "      <th>std</th>\n",
              "      <td>3.362839</td>\n",
              "      <td>32.682364</td>\n",
              "      <td>19.335675</td>\n",
              "      <td>16.017622</td>\n",
              "      <td>116.576176</td>\n",
              "      <td>8.008227</td>\n",
              "      <td>0.337552</td>\n",
              "      <td>11.828446</td>\n",
              "      <td>0.464447</td>\n",
              "    </tr>\n",
              "    <tr>\n",
              "      <th>min</th>\n",
              "      <td>0.000000</td>\n",
              "      <td>0.000000</td>\n",
              "      <td>0.000000</td>\n",
              "      <td>0.000000</td>\n",
              "      <td>0.000000</td>\n",
              "      <td>0.000000</td>\n",
              "      <td>0.078000</td>\n",
              "      <td>21.000000</td>\n",
              "      <td>0.000000</td>\n",
              "    </tr>\n",
              "    <tr>\n",
              "      <th>25%</th>\n",
              "      <td>1.000000</td>\n",
              "      <td>99.000000</td>\n",
              "      <td>64.000000</td>\n",
              "      <td>0.000000</td>\n",
              "      <td>0.000000</td>\n",
              "      <td>27.100000</td>\n",
              "      <td>0.248000</td>\n",
              "      <td>24.000000</td>\n",
              "      <td>0.000000</td>\n",
              "    </tr>\n",
              "    <tr>\n",
              "      <th>50%</th>\n",
              "      <td>3.000000</td>\n",
              "      <td>116.000000</td>\n",
              "      <td>70.000000</td>\n",
              "      <td>23.000000</td>\n",
              "      <td>36.000000</td>\n",
              "      <td>32.000000</td>\n",
              "      <td>0.383000</td>\n",
              "      <td>29.000000</td>\n",
              "      <td>1.000000</td>\n",
              "    </tr>\n",
              "    <tr>\n",
              "      <th>75%</th>\n",
              "      <td>6.000000</td>\n",
              "      <td>140.000000</td>\n",
              "      <td>80.000000</td>\n",
              "      <td>32.000000</td>\n",
              "      <td>123.500000</td>\n",
              "      <td>36.550000</td>\n",
              "      <td>0.647000</td>\n",
              "      <td>40.000000</td>\n",
              "      <td>1.000000</td>\n",
              "    </tr>\n",
              "    <tr>\n",
              "      <th>max</th>\n",
              "      <td>17.000000</td>\n",
              "      <td>198.000000</td>\n",
              "      <td>122.000000</td>\n",
              "      <td>99.000000</td>\n",
              "      <td>846.000000</td>\n",
              "      <td>67.100000</td>\n",
              "      <td>2.420000</td>\n",
              "      <td>81.000000</td>\n",
              "      <td>1.000000</td>\n",
              "    </tr>\n",
              "  </tbody>\n",
              "</table>\n",
              "</div>"
            ],
            "text/plain": [
              "       Plasma glucose  Blood Work Result-1  Blood Pressure   \n",
              "count      599.000000           599.000000      599.000000  \\\n",
              "mean         3.824708           120.153589       68.732888   \n",
              "std          3.362839            32.682364       19.335675   \n",
              "min          0.000000             0.000000        0.000000   \n",
              "25%          1.000000            99.000000       64.000000   \n",
              "50%          3.000000           116.000000       70.000000   \n",
              "75%          6.000000           140.000000       80.000000   \n",
              "max         17.000000           198.000000      122.000000   \n",
              "\n",
              "       Blood Work Result-2  Blood Work Result-3  Body mass index   \n",
              "count           599.000000           599.000000       599.000000  \\\n",
              "mean             20.562604            79.460768        31.920033   \n",
              "std              16.017622           116.576176         8.008227   \n",
              "min               0.000000             0.000000         0.000000   \n",
              "25%               0.000000             0.000000        27.100000   \n",
              "50%              23.000000            36.000000        32.000000   \n",
              "75%              32.000000           123.500000        36.550000   \n",
              "max              99.000000           846.000000        67.100000   \n",
              "\n",
              "       Blood Work Result-4         Age   Insurance  \n",
              "count           599.000000  599.000000  599.000000  \n",
              "mean              0.481187   33.290484    0.686144  \n",
              "std               0.337552   11.828446    0.464447  \n",
              "min               0.078000   21.000000    0.000000  \n",
              "25%               0.248000   24.000000    0.000000  \n",
              "50%               0.383000   29.000000    1.000000  \n",
              "75%               0.647000   40.000000    1.000000  \n",
              "max               2.420000   81.000000    1.000000  "
            ]
          },
          "execution_count": 45,
          "metadata": {},
          "output_type": "execute_result"
        }
      ],
      "source": [
        "#descriptive statistics of the train data \n",
        "train_data.describe()"
      ]
    },
    {
      "cell_type": "code",
      "execution_count": 46,
      "metadata": {},
      "outputs": [
        {
          "name": "stdout",
          "output_type": "stream",
          "text": [
            "Sepsis\n",
            "Negative    391\n",
            "Positive    208\n",
            "Name: count, dtype: int64\n"
          ]
        }
      ],
      "source": [
        "#check the counts of the target feature\n",
        "counts = train_data['Sepsis'].value_counts()\n",
        "print(counts)"
      ]
    },
    {
      "cell_type": "code",
      "execution_count": 47,
      "metadata": {},
      "outputs": [
        {
          "data": {
            "image/png": "[encoded data removed]",
            "text/plain": [
              "<Figure size 640x480 with 1 Axes>"
            ]
          },
          "metadata": {},
          "output_type": "display_data"
        }
      ],
      "source": [
        "# Create count plot on \"Sepsis\" column\n",
        "sns.countplot(x=\"Sepsis\", data=train_data)\n",
        "\n",
        "# Add axis labels\n",
        "plt.xlabel(\"Sepsis\")\n",
        "plt.ylabel(\"Count\")\n",
        "\n",
        "# Show plot\n",
        "plt.show()"
      ]
    },
    {
      "cell_type": "code",
      "execution_count": 50,
      "metadata": {},
      "outputs": [
        {
          "data": {
            "image/png": "[encoded data removed]",
            "text/plain": [
              "<Figure size 600x600 with 1 Axes>"
            ]
          },
          "metadata": {},
          "output_type": "display_data"
        }
      ],
      "source": [
        "#  Calculate the value counts of the \"Sepsis\" column\n",
        "class_counts =train_data['Sepsis'].value_counts(normalize=True)\n",
        "\n",
        "# Create a pie chart of the values in the 'Sepsis' column\n",
        "plt.figure(figsize=(6, 6))\n",
        "plt.pie(class_counts, labels=class_counts.index, autopct='%1.1f%%', startangle=90)\n",
        "plt.axis('equal')\n",
        "plt.title('Pie Chart of Sepsis Distribution')\n",
        "\n",
        "# Show the chart\n",
        "plt.show()"
      ]
    },
    {
      "attachments": {},
      "cell_type": "markdown",
      "metadata": {},
      "source": [
        "#### In-depth view of target feature \n",
        "The target feature is imbalanced with 65.3% of negative and 34.7% of positives"
      ]
    },
    {
      "attachments": {},
      "cell_type": "markdown",
      "metadata": {},
      "source": [
        "#### Answering Q1."
      ]
    },
    {
      "cell_type": "markdown",
      "metadata": {
        "id": "R8WB7j-3fxzL"
      },
      "source": [
        "# Feature Processing & Engineering\n",
        "Here is the section to **clean**, **process** the dataset and **create new features**."
      ]
    },
    {
      "cell_type": "markdown",
      "metadata": {
        "id": "X6Rh5SimmcGe"
      },
      "source": [
        "## Drop Duplicates"
      ]
    },
    {
      "cell_type": "code",
      "execution_count": null,
      "metadata": {
        "id": "dIBrDy1Pmo2_"
      },
      "outputs": [],
      "source": [
        "# Use pandas.DataFrame.drop_duplicates method"
      ]
    },
    {
      "cell_type": "markdown",
      "metadata": {
        "id": "dLJuYG_JgBH8"
      },
      "source": [
        "## Impute Missing Values"
      ]
    },
    {
      "cell_type": "code",
      "execution_count": null,
      "metadata": {
        "id": "52POL1F8gLEa"
      },
      "outputs": [],
      "source": [
        "# Use sklearn.impute.SimpleImputer"
      ]
    },
    {
      "cell_type": "markdown",
      "metadata": {
        "id": "vOoXNG6lgLVD"
      },
      "source": [
        "## New Features Creation"
      ]
    },
    {
      "cell_type": "code",
      "execution_count": null,
      "metadata": {
        "id": "fU5RQ0itegd4"
      },
      "outputs": [],
      "source": [
        "# Code here"
      ]
    },
    {
      "cell_type": "markdown",
      "metadata": {
        "id": "eYkNdwQ-gRod"
      },
      "source": [
        "## Features Encoding\n",
        "\n",
        "\n"
      ]
    },
    {
      "cell_type": "code",
      "execution_count": null,
      "metadata": {
        "id": "99vphpwPgbUw"
      },
      "outputs": [],
      "source": [
        "# From sklearn.preprocessing use OneHotEncoder to encode the categorical features."
      ]
    },
    {
      "cell_type": "markdown",
      "metadata": {
        "id": "wxYGw6zug8lI"
      },
      "source": [
        "## Dataset Splitting"
      ]
    },
    {
      "cell_type": "code",
      "execution_count": null,
      "metadata": {
        "id": "cbsbMbs1hDzo"
      },
      "outputs": [],
      "source": [
        "# Use train_test_split with a random_state, and add stratify for Classification"
      ]
    },
    {
      "cell_type": "markdown",
      "metadata": {
        "id": "Q0TvhRVghEcP"
      },
      "source": [
        "## Features Scaling\n"
      ]
    },
    {
      "cell_type": "code",
      "execution_count": null,
      "metadata": {
        "id": "pf6WtuHphLBE"
      },
      "outputs": [],
      "source": [
        "# From sklearn.preprocessing use StandardScaler, MinMaxScaler, etc."
      ]
    },
    {
      "cell_type": "markdown",
      "metadata": {
        "id": "4-UlAVv4iYz8"
      },
      "source": [
        "## Optional: Train Dataset Balancing "
      ]
    },
    {
      "cell_type": "code",
      "execution_count": null,
      "metadata": {
        "id": "ySLn254IiujE"
      },
      "outputs": [],
      "source": [
        "# Use Over-sampling/Under-sampling methods, more details here: https://imbalanced-learn.org/stable/install.html"
      ]
    },
    {
      "cell_type": "markdown",
      "metadata": {
        "id": "WloQgMqqf6bT"
      },
      "source": [
        "# Machine Learning Modeling \n",
        "Here is the section to **build**, **train**, **evaluate** and **compare** the models to each others."
      ]
    },
    {
      "cell_type": "markdown",
      "metadata": {
        "id": "tTiiqCnG1FA2"
      },
      "source": [
        "## Simple Model #001\n",
        "\n",
        "Please, keep the following structure to try all the model you want."
      ]
    },
    {
      "cell_type": "markdown",
      "metadata": {
        "id": "46li5Z2z1ME7"
      },
      "source": [
        "### Create the Model"
      ]
    },
    {
      "cell_type": "code",
      "execution_count": null,
      "metadata": {
        "id": "1Fjv6pJt1uoV"
      },
      "outputs": [],
      "source": [
        "# Code here"
      ]
    },
    {
      "cell_type": "markdown",
      "metadata": {
        "id": "XwHqTKk11U5f"
      },
      "source": [
        "### Train the Model"
      ]
    },
    {
      "cell_type": "code",
      "execution_count": null,
      "metadata": {
        "id": "fgsct6LH1v9e"
      },
      "outputs": [],
      "source": [
        "# Use the .fit method"
      ]
    },
    {
      "cell_type": "markdown",
      "metadata": {
        "id": "M6aXGMEf1Yra"
      },
      "source": [
        "### Evaluate the Model on the Evaluation dataset (Evalset)"
      ]
    },
    {
      "cell_type": "code",
      "execution_count": null,
      "metadata": {
        "id": "9XBrsspR1wso"
      },
      "outputs": [],
      "source": [
        "# Compute the valid metrics for the use case # Optional: show the classification report "
      ]
    },
    {
      "cell_type": "markdown",
      "metadata": {
        "id": "001NdcP11dMu"
      },
      "source": [
        "### Predict on a unknown dataset (Testset)"
      ]
    },
    {
      "cell_type": "code",
      "execution_count": null,
      "metadata": {
        "id": "mWnGeGn0i3b0"
      },
      "outputs": [],
      "source": [
        "# Use .predict method # .predict_proba is available just for classification"
      ]
    },
    {
      "cell_type": "markdown",
      "metadata": {
        "id": "A54gPujOmqaV"
      },
      "source": [
        "## Simple Model #002"
      ]
    },
    {
      "cell_type": "markdown",
      "metadata": {
        "id": "MC6WaxZUmqaW"
      },
      "source": [
        "### Create the Model"
      ]
    },
    {
      "cell_type": "code",
      "execution_count": null,
      "metadata": {
        "id": "THTw7OjhmqaW"
      },
      "outputs": [],
      "source": [
        "# Code here"
      ]
    },
    {
      "cell_type": "markdown",
      "metadata": {
        "id": "n7CV9W0DmqaW"
      },
      "source": [
        "### Train the Model"
      ]
    },
    {
      "cell_type": "code",
      "execution_count": null,
      "metadata": {
        "id": "uQMdz0JPmqaW"
      },
      "outputs": [],
      "source": [
        "# Use the .fit method"
      ]
    },
    {
      "cell_type": "markdown",
      "metadata": {
        "id": "f1Fb-2_PmqaW"
      },
      "source": [
        "### Evaluate the Model on the Evaluation dataset (Evalset)"
      ]
    },
    {
      "cell_type": "code",
      "execution_count": null,
      "metadata": {
        "id": "oz3-pxgDmqaW"
      },
      "outputs": [],
      "source": [
        "# Compute the valid metrics for the use case # Optional: show the classification report "
      ]
    },
    {
      "cell_type": "markdown",
      "metadata": {
        "id": "7-x7GFqxmqaW"
      },
      "source": [
        "### Predict on a unknown dataset (Testset)"
      ]
    },
    {
      "cell_type": "code",
      "execution_count": null,
      "metadata": {
        "id": "ORaQB1zLmqaW"
      },
      "outputs": [],
      "source": [
        "# Use .predict method # .predict_proba is available just for classification"
      ]
    },
    {
      "cell_type": "markdown",
      "metadata": {
        "id": "S73ZUqkUmyz_"
      },
      "source": [
        "## Models comparison\n",
        "Create a pandas dataframe that will allow you to compare your models.\n",
        "\n",
        "Find a sample frame below :\n",
        "\n",
        "|     | Model_Name     | Metric (metric_name)    | Details  |\n",
        "|:---:|:--------------:|:--------------:|:-----------------:|\n",
        "| 0   |  -             |  -             | -                 |\n",
        "| 1   |  -             |  -             | -                 |\n",
        "\n",
        "\n",
        "You might use the pandas dataframe method `.sort_values()` to sort the dataframe regarding the metric."
      ]
    },
    {
      "cell_type": "code",
      "execution_count": null,
      "metadata": {
        "id": "jpwLiOo9pVIQ"
      },
      "outputs": [],
      "source": []
    },
    {
      "cell_type": "markdown",
      "metadata": {
        "id": "ezmrABneph31"
      },
      "source": [
        "## Hyperparameters tuning \n",
        "\n",
        "Fine-tune the Top-k models (3 < k < 5) using a ` GridSearchCV`  (that is in sklearn.model_selection\n",
        ") to find the best hyperparameters and achieve the maximum performance of each of the Top-k models, then compare them again to select the best one."
      ]
    },
    {
      "cell_type": "code",
      "execution_count": null,
      "metadata": {
        "id": "FpTEDK9RrlRl"
      },
      "outputs": [],
      "source": [
        "# Code here"
      ]
    },
    {
      "cell_type": "markdown",
      "metadata": {
        "id": "I_7_gsrX2VSk"
      },
      "source": [
        "# Export key components\n",
        "Here is the section to **export** the important ML objects that will be use to develop an app: *Encoder, Scaler, ColumnTransformer, Model, Pipeline, etc*."
      ]
    },
    {
      "cell_type": "code",
      "execution_count": null,
      "metadata": {
        "id": "32mviWyGAMqP"
      },
      "outputs": [],
      "source": [
        "# Use pickle : put all your key components in a python dictionary and save it as a file that will be loaded in an app"
      ]
    }
  ],
  "metadata": {
    "colab": {
      "authorship_tag": "ABX9TyPzYA3kkG0wrKEzgEfn70H+",
      "collapsed_sections": [
        "S73ZUqkUmyz_"
      ],
      "include_colab_link": true,
      "provenance": []
    },
    "kernelspec": {
      "display_name": "Python 3",
      "name": "python3"
    },
    "language_info": {
      "codemirror_mode": {
        "name": "ipython",
        "version": 3
      },
      "file_extension": ".py",
      "mimetype": "text/x-python",
      "name": "python",
      "nbconvert_exporter": "python",
      "pygments_lexer": "ipython3",
      "version": "3.9.13"
    }
  },
  "nbformat": 4,
  "nbformat_minor": 0
}

{
 "cells": [
  {
   "cell_type": "markdown",
   "metadata": {
    "colab_type": "text",
    "id": "view-in-github"
   },
   "source": [
    "<a href=\"https://colab.research.google.com/github/eaedk/Machine-Learning-Tutorials/blob/main/ML_Step_By_Step_Guide.ipynb\" target=\"_parent\"><img src=\"https://colab.research.google.com/assets/colab-badge.svg\" alt=\"Open In Colab\"/></a>"
   ]
  },
  {
   "cell_type": "markdown",
   "metadata": {
    "id": "wW3v1-2n3CzK"
   },
   "source": [
    "# Intro\n",
    "## General\n",
    "Machine learning allows the user to feed a computer algorithm an immense amount of data and have the computer analyze and make data-driven recommendations and decisions based on only the input data. \n",
    "In most of the situations we want to have a machine learning system to make **predictions**, so we have several categories of machine learning tasks depending on the type of prediction needed: **Classification, Regression, Clustering, Generation**, etc.\n",
    "\n",
    "**Classification** is the task whose goal is the prediction of the label of the class to which the input belongs (e.g., Classification of images in two classes: cats and dogs).\n",
    "**Regression** is the task whose goal is the prediction of numerical value(s) related to the input (e.g., House rent prediction, Estimated time of arrival ).\n",
    "**Generation** is the task whose goal is the creation of something new related to the input (e.g., Text translation, Audio beat generation, Image denoising ). **Clustering** is the task of grouping a set of objects in such a way that objects in the same group (called a **cluster**) are more similar (in some sense) to each other than to those in other **clusters** (e.g., Clients clutering).\n",
    "\n",
    "In machine learning, there are learning paradigms that relate to one aspect of the dataset: **the presence of the label to be predicted**. **Supervised Learning** is the paradigm of learning that is applied when the dataset has the label variables to be predicted, known as ` y variables`. **Unsupervised Learning** is the paradigm of learning that is applied when the dataset has not the label variables to be predicted. **Self-supervised Learning** is the paradigm of learning that is applied when part of the X dataset is considere as the label to be predicted (e.g., the Dataset is made of texts and the model try to predict the next word of each sentence).\n",
    "\n",
    "## Notebook overview\n",
    "\n",
    "This notebook is a guide to start practicing Machine Learning."
   ]
  },
  {
   "cell_type": "markdown",
   "metadata": {},
   "source": [
    "### Data Understanding \n",
    "\n",
    "### Project Title: Building a Machine Learning Model to Predict Sepsis Status\n",
    "\n",
    "### Hypothesis\n",
    "### Null Hypothesis: Patients within the age range of 20 to 40 do not have sepsis\n",
    "### Alternate Hypothesis: Patients within the age range of 20 to 40 have sepsis\n",
    "\n",
    "### Research Questions\n",
    "#### 1. Is the the target feature (sepsis) balanced?\n",
    "#### 2. Which age range has the highest number of positive sepsis status?\n",
    "#### 3. Which of the ranges in the blood pressure category are most patients found?\n",
    "#### 4. Which of the ranges in (3) has a high number positive sepsis status?\n",
    "#### 5. Which sepsis status has more insured patients?\n",
    "#### 6. Is there a relationship between blood pressure, body mass index  and sepsis?\n",
    "#### 7. Are there variations in the different blood work results and sepsis status?\n",
    "#### 8. What is the relationship between Age and Blood Pressure Categories and Sepsis?"
   ]
  },
  {
   "cell_type": "markdown",
   "metadata": {
    "id": "n4VFUnkuexCE"
   },
   "source": [
    "# Setup"
   ]
  },
  {
   "cell_type": "markdown",
   "metadata": {
    "id": "qdFpRxPje1gw"
   },
   "source": [
    "## Installation\n",
    "Here is the section to install all the packages/libraries that will be needed to tackle the challlenge."
   ]
  },
  {
   "cell_type": "code",
   "execution_count": 1,
   "metadata": {
    "id": "W-d-roFQe6yi"
   },
   "outputs": [],
   "source": [
    "# !pip install -q <lib_001> <lib_002> ...\n",
    "# %pip install plotly"
   ]
  },
  {
   "cell_type": "code",
   "execution_count": null,
   "metadata": {},
   "outputs": [],
   "source": [
    "%pip install imbalanced-learn"
   ]
  },
  {
   "cell_type": "code",
   "execution_count": null,
   "metadata": {},
   "outputs": [],
   "source": [
    "%pip install -U scikit-learn"
   ]
  },
  {
   "cell_type": "markdown",
   "metadata": {
    "id": "0HmLxlQre7HW"
   },
   "source": [
    "## Importation\n",
    "Here is the section to import all the packages/libraries that will be used through this notebook."
   ]
  },
  {
   "cell_type": "code",
   "execution_count": 1,
   "metadata": {
    "id": "MP62JaiKfCnS"
   },
   "outputs": [],
   "source": [
    "# Data handling\n",
    "import pandas as pd\n",
    "import numpy as np\n",
    "\n",
    "# Vizualisation (Matplotlib, Plotly, Seaborn, etc. )\n",
    "import seaborn as sns\n",
    "import matplotlib.pyplot as plt\n",
    "import plotly.express as px\n",
    "from pandas.plotting import scatter_matrix\n",
    "\n",
    "\n",
    "# Feature Processing (Scikit-learn processing, etc. )\n",
    "from sklearn.impute import SimpleImputer\n",
    "from sklearn.preprocessing import StandardScaler \n",
    "from sklearn.preprocessing import OneHotEncoder\n",
    "from sklearn.pipeline import Pipeline\n",
    "from sklearn.compose import ColumnTransformer\n",
    "from sklearn.model_selection import train_test_split\n",
    "import imblearn\n",
    "from imblearn.over_sampling import RandomOverSampler, SMOTE\n",
    "from sklearn.metrics import confusion_matrix , classification_report, f1_score, accuracy_score,\\\n",
    "precision_score, recall_score, fbeta_score, make_scorer\n",
    "from sklearn.metrics import precision_recall_curve\n",
    "from sklearn.metrics import roc_auc_score, roc_curve, auc\n",
    "\n",
    "# Machine Learning (Scikit-learn Estimators, Catboost, LightGBM, etc. )\n",
    "from sklearn.tree import DecisionTreeClassifier\n",
    "from sklearn.ensemble import RandomForestClassifier\n",
    "from sklearn.neighbors import KNeighborsClassifier\n",
    "from sklearn import svm\n",
    "from sklearn.linear_model import LogisticRegression\n",
    "\n",
    "\n",
    "\n",
    "\n",
    "# Hyperparameters Fine-tuning (Scikit-learn hp search, cross-validation, etc. )\n",
    "from sklearn.model_selection import GridSearchCV\n",
    "\n",
    "# Other packages\n",
    "import os\n",
    "import pickle\n",
    "#importing warning\n",
    "import warnings\n",
    "warnings.filterwarnings('ignore')\n"
   ]
  },
  {
   "cell_type": "markdown",
   "metadata": {
    "id": "UfOADQf0e9i1"
   },
   "source": [
    "# Data Loading\n",
    "Here is the section to load the datasets (train, eval, test) and the additional files"
   ]
  },
  {
   "cell_type": "code",
   "execution_count": 2,
   "metadata": {
    "id": "KIQyG5EcfQlU"
   },
   "outputs": [],
   "source": [
    "# For CSV, use pandas.read_csv\n",
    "# loading train and test data\n",
    "train_data=pd.read_csv('../dataset/Paitients_Files_Train.csv')\n",
    "test_data=pd.read_csv('../dataset/Paitients_Files_Test.csv')"
   ]
  },
  {
   "cell_type": "markdown",
   "metadata": {
    "id": "okaZxnc3fRId"
   },
   "source": [
    "# Exploratory Data Analysis: EDA\n",
    "Here is the section to **inspect** the datasets in depth, **present** it, make **hypotheses** and **think** the *cleaning, processing and features creation*."
   ]
  },
  {
   "cell_type": "code",
   "execution_count": 3,
   "metadata": {
    "id": "0VNR9LfZfbGe"
   },
   "outputs": [
    {
     "data": {
      "text/html": [
       "<div>\n",
       "<style scoped>\n",
       "    .dataframe tbody tr th:only-of-type {\n",
       "        vertical-align: middle;\n",
       "    }\n",
       "\n",
       "    .dataframe tbody tr th {\n",
       "        vertical-align: top;\n",
       "    }\n",
       "\n",
       "    .dataframe thead th {\n",
       "        text-align: right;\n",
       "    }\n",
       "</style>\n",
       "<table border=\"1\" class=\"dataframe\">\n",
       "  <thead>\n",
       "    <tr style=\"text-align: right;\">\n",
       "      <th></th>\n",
       "      <th>ID</th>\n",
       "      <th>PRG</th>\n",
       "      <th>PL</th>\n",
       "      <th>PR</th>\n",
       "      <th>SK</th>\n",
       "      <th>TS</th>\n",
       "      <th>M11</th>\n",
       "      <th>BD2</th>\n",
       "      <th>Age</th>\n",
       "      <th>Insurance</th>\n",
       "      <th>Sepssis</th>\n",
       "    </tr>\n",
       "  </thead>\n",
       "  <tbody>\n",
       "    <tr>\n",
       "      <th>0</th>\n",
       "      <td>ICU200010</td>\n",
       "      <td>6</td>\n",
       "      <td>148</td>\n",
       "      <td>72</td>\n",
       "      <td>35</td>\n",
       "      <td>0</td>\n",
       "      <td>33.6</td>\n",
       "      <td>0.627</td>\n",
       "      <td>50</td>\n",
       "      <td>0</td>\n",
       "      <td>Positive</td>\n",
       "    </tr>\n",
       "    <tr>\n",
       "      <th>1</th>\n",
       "      <td>ICU200011</td>\n",
       "      <td>1</td>\n",
       "      <td>85</td>\n",
       "      <td>66</td>\n",
       "      <td>29</td>\n",
       "      <td>0</td>\n",
       "      <td>26.6</td>\n",
       "      <td>0.351</td>\n",
       "      <td>31</td>\n",
       "      <td>0</td>\n",
       "      <td>Negative</td>\n",
       "    </tr>\n",
       "    <tr>\n",
       "      <th>2</th>\n",
       "      <td>ICU200012</td>\n",
       "      <td>8</td>\n",
       "      <td>183</td>\n",
       "      <td>64</td>\n",
       "      <td>0</td>\n",
       "      <td>0</td>\n",
       "      <td>23.3</td>\n",
       "      <td>0.672</td>\n",
       "      <td>32</td>\n",
       "      <td>1</td>\n",
       "      <td>Positive</td>\n",
       "    </tr>\n",
       "    <tr>\n",
       "      <th>3</th>\n",
       "      <td>ICU200013</td>\n",
       "      <td>1</td>\n",
       "      <td>89</td>\n",
       "      <td>66</td>\n",
       "      <td>23</td>\n",
       "      <td>94</td>\n",
       "      <td>28.1</td>\n",
       "      <td>0.167</td>\n",
       "      <td>21</td>\n",
       "      <td>1</td>\n",
       "      <td>Negative</td>\n",
       "    </tr>\n",
       "    <tr>\n",
       "      <th>4</th>\n",
       "      <td>ICU200014</td>\n",
       "      <td>0</td>\n",
       "      <td>137</td>\n",
       "      <td>40</td>\n",
       "      <td>35</td>\n",
       "      <td>168</td>\n",
       "      <td>43.1</td>\n",
       "      <td>2.288</td>\n",
       "      <td>33</td>\n",
       "      <td>1</td>\n",
       "      <td>Positive</td>\n",
       "    </tr>\n",
       "  </tbody>\n",
       "</table>\n",
       "</div>"
      ],
      "text/plain": [
       "          ID  PRG   PL  PR  SK   TS   M11    BD2  Age  Insurance   Sepssis\n",
       "0  ICU200010    6  148  72  35    0  33.6  0.627   50          0  Positive\n",
       "1  ICU200011    1   85  66  29    0  26.6  0.351   31          0  Negative\n",
       "2  ICU200012    8  183  64   0    0  23.3  0.672   32          1  Positive\n",
       "3  ICU200013    1   89  66  23   94  28.1  0.167   21          1  Negative\n",
       "4  ICU200014    0  137  40  35  168  43.1  2.288   33          1  Positive"
      ]
     },
     "execution_count": 3,
     "metadata": {},
     "output_type": "execute_result"
    }
   ],
   "source": [
    "# checking the train dataset\n",
    "train_data.head()"
   ]
  },
  {
   "cell_type": "code",
   "execution_count": 4,
   "metadata": {},
   "outputs": [
    {
     "name": "stdout",
     "output_type": "stream",
     "text": [
      "<class 'pandas.core.frame.DataFrame'>\n",
      "RangeIndex: 599 entries, 0 to 598\n",
      "Data columns (total 11 columns):\n",
      " #   Column     Non-Null Count  Dtype  \n",
      "---  ------     --------------  -----  \n",
      " 0   ID         599 non-null    object \n",
      " 1   PRG        599 non-null    int64  \n",
      " 2   PL         599 non-null    int64  \n",
      " 3   PR         599 non-null    int64  \n",
      " 4   SK         599 non-null    int64  \n",
      " 5   TS         599 non-null    int64  \n",
      " 6   M11        599 non-null    float64\n",
      " 7   BD2        599 non-null    float64\n",
      " 8   Age        599 non-null    int64  \n",
      " 9   Insurance  599 non-null    int64  \n",
      " 10  Sepssis    599 non-null    object \n",
      "dtypes: float64(2), int64(7), object(2)\n",
      "memory usage: 51.6+ KB\n"
     ]
    }
   ],
   "source": [
    "#check data info\n",
    "train_data.info()"
   ]
  },
  {
   "cell_type": "code",
   "execution_count": 5,
   "metadata": {},
   "outputs": [
    {
     "data": {
      "text/plain": [
       "(599, 11)"
      ]
     },
     "execution_count": 5,
     "metadata": {},
     "output_type": "execute_result"
    }
   ],
   "source": [
    "#check shape of data\n",
    "train_data.shape"
   ]
  },
  {
   "cell_type": "code",
   "execution_count": 6,
   "metadata": {},
   "outputs": [
    {
     "data": {
      "text/plain": [
       "ID           0\n",
       "PRG          0\n",
       "PL           0\n",
       "PR           0\n",
       "SK           0\n",
       "TS           0\n",
       "M11          0\n",
       "BD2          0\n",
       "Age          0\n",
       "Insurance    0\n",
       "Sepssis      0\n",
       "dtype: int64"
      ]
     },
     "execution_count": 6,
     "metadata": {},
     "output_type": "execute_result"
    }
   ],
   "source": [
    "#check null values\n",
    "train_data.isnull().sum()"
   ]
  },
  {
   "cell_type": "code",
   "execution_count": 7,
   "metadata": {},
   "outputs": [
    {
     "data": {
      "text/plain": [
       "0"
      ]
     },
     "execution_count": 7,
     "metadata": {},
     "output_type": "execute_result"
    }
   ],
   "source": [
    "#check for duplicates\n",
    "train_data.duplicated().sum()"
   ]
  },
  {
   "cell_type": "code",
   "execution_count": 8,
   "metadata": {},
   "outputs": [
    {
     "data": {
      "text/plain": [
       "ID           599\n",
       "PRG           17\n",
       "PL           129\n",
       "PR            44\n",
       "SK            51\n",
       "TS           164\n",
       "M11          233\n",
       "BD2          437\n",
       "Age           50\n",
       "Insurance      2\n",
       "Sepssis        2\n",
       "dtype: int64"
      ]
     },
     "execution_count": 8,
     "metadata": {},
     "output_type": "execute_result"
    }
   ],
   "source": [
    "#check unique values\n",
    "train_data.nunique()"
   ]
  },
  {
   "cell_type": "code",
   "execution_count": 9,
   "metadata": {},
   "outputs": [],
   "source": [
    "#renaming column names to make it understandable\n",
    "\n",
    "train_data.rename(columns = {'PRG':'Plasma glucose', 'PL':'Blood Work Result-1',\n",
    "                              'PR':'Blood Pressure', 'SK':'Blood Work Result-2', 'TS':'Blood Work Result-3', 'M11':'Body mass index', \n",
    "                             'BD2':'Blood Work Result-4','Sepssis':'Sepsis'}, inplace = True)"
   ]
  },
  {
   "cell_type": "code",
   "execution_count": 10,
   "metadata": {},
   "outputs": [
    {
     "data": {
      "text/html": [
       "<div>\n",
       "<style scoped>\n",
       "    .dataframe tbody tr th:only-of-type {\n",
       "        vertical-align: middle;\n",
       "    }\n",
       "\n",
       "    .dataframe tbody tr th {\n",
       "        vertical-align: top;\n",
       "    }\n",
       "\n",
       "    .dataframe thead th {\n",
       "        text-align: right;\n",
       "    }\n",
       "</style>\n",
       "<table border=\"1\" class=\"dataframe\">\n",
       "  <thead>\n",
       "    <tr style=\"text-align: right;\">\n",
       "      <th></th>\n",
       "      <th>ID</th>\n",
       "      <th>Plasma glucose</th>\n",
       "      <th>Blood Work Result-1</th>\n",
       "      <th>Blood Pressure</th>\n",
       "      <th>Blood Work Result-2</th>\n",
       "      <th>Blood Work Result-3</th>\n",
       "      <th>Body mass index</th>\n",
       "      <th>Blood Work Result-4</th>\n",
       "      <th>Age</th>\n",
       "      <th>Insurance</th>\n",
       "      <th>Sepsis</th>\n",
       "    </tr>\n",
       "  </thead>\n",
       "  <tbody>\n",
       "    <tr>\n",
       "      <th>0</th>\n",
       "      <td>ICU200010</td>\n",
       "      <td>6</td>\n",
       "      <td>148</td>\n",
       "      <td>72</td>\n",
       "      <td>35</td>\n",
       "      <td>0</td>\n",
       "      <td>33.6</td>\n",
       "      <td>0.627</td>\n",
       "      <td>50</td>\n",
       "      <td>0</td>\n",
       "      <td>Positive</td>\n",
       "    </tr>\n",
       "    <tr>\n",
       "      <th>1</th>\n",
       "      <td>ICU200011</td>\n",
       "      <td>1</td>\n",
       "      <td>85</td>\n",
       "      <td>66</td>\n",
       "      <td>29</td>\n",
       "      <td>0</td>\n",
       "      <td>26.6</td>\n",
       "      <td>0.351</td>\n",
       "      <td>31</td>\n",
       "      <td>0</td>\n",
       "      <td>Negative</td>\n",
       "    </tr>\n",
       "    <tr>\n",
       "      <th>2</th>\n",
       "      <td>ICU200012</td>\n",
       "      <td>8</td>\n",
       "      <td>183</td>\n",
       "      <td>64</td>\n",
       "      <td>0</td>\n",
       "      <td>0</td>\n",
       "      <td>23.3</td>\n",
       "      <td>0.672</td>\n",
       "      <td>32</td>\n",
       "      <td>1</td>\n",
       "      <td>Positive</td>\n",
       "    </tr>\n",
       "    <tr>\n",
       "      <th>3</th>\n",
       "      <td>ICU200013</td>\n",
       "      <td>1</td>\n",
       "      <td>89</td>\n",
       "      <td>66</td>\n",
       "      <td>23</td>\n",
       "      <td>94</td>\n",
       "      <td>28.1</td>\n",
       "      <td>0.167</td>\n",
       "      <td>21</td>\n",
       "      <td>1</td>\n",
       "      <td>Negative</td>\n",
       "    </tr>\n",
       "    <tr>\n",
       "      <th>4</th>\n",
       "      <td>ICU200014</td>\n",
       "      <td>0</td>\n",
       "      <td>137</td>\n",
       "      <td>40</td>\n",
       "      <td>35</td>\n",
       "      <td>168</td>\n",
       "      <td>43.1</td>\n",
       "      <td>2.288</td>\n",
       "      <td>33</td>\n",
       "      <td>1</td>\n",
       "      <td>Positive</td>\n",
       "    </tr>\n",
       "  </tbody>\n",
       "</table>\n",
       "</div>"
      ],
      "text/plain": [
       "          ID  Plasma glucose  Blood Work Result-1  Blood Pressure  \\\n",
       "0  ICU200010               6                  148              72   \n",
       "1  ICU200011               1                   85              66   \n",
       "2  ICU200012               8                  183              64   \n",
       "3  ICU200013               1                   89              66   \n",
       "4  ICU200014               0                  137              40   \n",
       "\n",
       "   Blood Work Result-2  Blood Work Result-3  Body mass index  \\\n",
       "0                   35                    0             33.6   \n",
       "1                   29                    0             26.6   \n",
       "2                    0                    0             23.3   \n",
       "3                   23                   94             28.1   \n",
       "4                   35                  168             43.1   \n",
       "\n",
       "   Blood Work Result-4  Age  Insurance    Sepsis  \n",
       "0                0.627   50          0  Positive  \n",
       "1                0.351   31          0  Negative  \n",
       "2                0.672   32          1  Positive  \n",
       "3                0.167   21          1  Negative  \n",
       "4                2.288   33          1  Positive  "
      ]
     },
     "execution_count": 10,
     "metadata": {},
     "output_type": "execute_result"
    }
   ],
   "source": [
    "#check renamed columns\n",
    "train_data.head()"
   ]
  },
  {
   "cell_type": "code",
   "execution_count": 11,
   "metadata": {},
   "outputs": [
    {
     "data": {
      "text/plain": [
       "ID                       0\n",
       "Plasma glucose          93\n",
       "Blood Work Result-1      5\n",
       "Blood Pressure          28\n",
       "Blood Work Result-2    175\n",
       "Blood Work Result-3    289\n",
       "Body mass index          9\n",
       "Blood Work Result-4      0\n",
       "Age                      0\n",
       "Insurance              188\n",
       "Sepsis                   0\n",
       "dtype: int64"
      ]
     },
     "execution_count": 11,
     "metadata": {},
     "output_type": "execute_result"
    }
   ],
   "source": [
    "#finding the number of zeros in each column in the train data\n",
    "\n",
    "zeros_in_each_col = train_data.eq(0).sum()\n",
    "\n",
    "zeros_in_each_col"
   ]
  },
  {
   "cell_type": "code",
   "execution_count": 12,
   "metadata": {},
   "outputs": [
    {
     "data": {
      "text/html": [
       "<div>\n",
       "<style scoped>\n",
       "    .dataframe tbody tr th:only-of-type {\n",
       "        vertical-align: middle;\n",
       "    }\n",
       "\n",
       "    .dataframe tbody tr th {\n",
       "        vertical-align: top;\n",
       "    }\n",
       "\n",
       "    .dataframe thead th {\n",
       "        text-align: right;\n",
       "    }\n",
       "</style>\n",
       "<table border=\"1\" class=\"dataframe\">\n",
       "  <thead>\n",
       "    <tr style=\"text-align: right;\">\n",
       "      <th></th>\n",
       "      <th>ID</th>\n",
       "      <th>Plasma glucose</th>\n",
       "      <th>Blood Work Result-1</th>\n",
       "      <th>Blood Pressure</th>\n",
       "      <th>Blood Work Result-2</th>\n",
       "      <th>Blood Work Result-3</th>\n",
       "      <th>Body mass index</th>\n",
       "      <th>Blood Work Result-4</th>\n",
       "      <th>Age</th>\n",
       "      <th>Insurance</th>\n",
       "      <th>Sepsis</th>\n",
       "    </tr>\n",
       "  </thead>\n",
       "  <tbody>\n",
       "    <tr>\n",
       "      <th>0</th>\n",
       "      <td>ICU200010</td>\n",
       "      <td>6</td>\n",
       "      <td>148</td>\n",
       "      <td>72</td>\n",
       "      <td>35</td>\n",
       "      <td>0</td>\n",
       "      <td>33.6</td>\n",
       "      <td>0.627</td>\n",
       "      <td>50</td>\n",
       "      <td>0</td>\n",
       "      <td>Positive</td>\n",
       "    </tr>\n",
       "    <tr>\n",
       "      <th>1</th>\n",
       "      <td>ICU200011</td>\n",
       "      <td>1</td>\n",
       "      <td>85</td>\n",
       "      <td>66</td>\n",
       "      <td>29</td>\n",
       "      <td>0</td>\n",
       "      <td>26.6</td>\n",
       "      <td>0.351</td>\n",
       "      <td>31</td>\n",
       "      <td>0</td>\n",
       "      <td>Negative</td>\n",
       "    </tr>\n",
       "    <tr>\n",
       "      <th>2</th>\n",
       "      <td>ICU200012</td>\n",
       "      <td>8</td>\n",
       "      <td>183</td>\n",
       "      <td>64</td>\n",
       "      <td>0</td>\n",
       "      <td>0</td>\n",
       "      <td>23.3</td>\n",
       "      <td>0.672</td>\n",
       "      <td>32</td>\n",
       "      <td>1</td>\n",
       "      <td>Positive</td>\n",
       "    </tr>\n",
       "    <tr>\n",
       "      <th>3</th>\n",
       "      <td>ICU200013</td>\n",
       "      <td>1</td>\n",
       "      <td>89</td>\n",
       "      <td>66</td>\n",
       "      <td>23</td>\n",
       "      <td>94</td>\n",
       "      <td>28.1</td>\n",
       "      <td>0.167</td>\n",
       "      <td>21</td>\n",
       "      <td>1</td>\n",
       "      <td>Negative</td>\n",
       "    </tr>\n",
       "    <tr>\n",
       "      <th>4</th>\n",
       "      <td>ICU200014</td>\n",
       "      <td>0</td>\n",
       "      <td>137</td>\n",
       "      <td>40</td>\n",
       "      <td>35</td>\n",
       "      <td>168</td>\n",
       "      <td>43.1</td>\n",
       "      <td>2.288</td>\n",
       "      <td>33</td>\n",
       "      <td>1</td>\n",
       "      <td>Positive</td>\n",
       "    </tr>\n",
       "  </tbody>\n",
       "</table>\n",
       "</div>"
      ],
      "text/plain": [
       "          ID  Plasma glucose  Blood Work Result-1  Blood Pressure  \\\n",
       "0  ICU200010               6                  148              72   \n",
       "1  ICU200011               1                   85              66   \n",
       "2  ICU200012               8                  183              64   \n",
       "3  ICU200013               1                   89              66   \n",
       "4  ICU200014               0                  137              40   \n",
       "\n",
       "   Blood Work Result-2  Blood Work Result-3  Body mass index  \\\n",
       "0                   35                    0             33.6   \n",
       "1                   29                    0             26.6   \n",
       "2                    0                    0             23.3   \n",
       "3                   23                   94             28.1   \n",
       "4                   35                  168             43.1   \n",
       "\n",
       "   Blood Work Result-4  Age  Insurance    Sepsis  \n",
       "0                0.627   50          0  Positive  \n",
       "1                0.351   31          0  Negative  \n",
       "2                0.672   32          1  Positive  \n",
       "3                0.167   21          1  Negative  \n",
       "4                2.288   33          1  Positive  "
      ]
     },
     "execution_count": 12,
     "metadata": {},
     "output_type": "execute_result"
    }
   ],
   "source": [
    "'''replacing the zeros in each column. \n",
    "NOTE: Insurance has it's values to be 0 and 1 so it will be dropped to perform this operation '''\n",
    "\n",
    "# create a copy of the train_data which will be used for explorations\n",
    "\n",
    "train_copy=train_data.copy()\n",
    "train_copy.head()"
   ]
  },
  {
   "cell_type": "markdown",
   "metadata": {},
   "source": [
    "> - Before the zeros are replaced, a graphical representation can help choose the appropriate central tendancy. The use of either mode or median in this case depends on the presence of outliers. \n",
    "> - The mean is suitable for data that is approximately normally distributed without significant outliers.\n",
    "> - The median is suitable in the presence of outliers, as it is not affected by extreme values."
   ]
  },
  {
   "cell_type": "code",
   "execution_count": 13,
   "metadata": {},
   "outputs": [
    {
     "data": {
      "image/png": "[encoded data removed]",
      "text/plain": [
       "<Figure size 2000x1500 with 9 Axes>"
      ]
     },
     "metadata": {},
     "output_type": "display_data"
    }
   ],
   "source": [
    "#graphical representation of each column. Note: The Insurance col isn't considered since it values are 0 and 1\n",
    "train_copy.hist(alpha=0.3, color='b', density=True, figsize=(20,15))\n",
    "plt.show()"
   ]
  },
  {
   "cell_type": "markdown",
   "metadata": {},
   "source": [
    "> - The graphical representation shows that the various columns aren't normally distributed and are skewed with outliers present.\n",
    "\n",
    "> - Hence the median will be used."
   ]
  },
  {
   "cell_type": "code",
   "execution_count": 20,
   "metadata": {},
   "outputs": [
    {
     "data": {
      "text/html": [
       "<div>\n",
       "<style scoped>\n",
       "    .dataframe tbody tr th:only-of-type {\n",
       "        vertical-align: middle;\n",
       "    }\n",
       "\n",
       "    .dataframe tbody tr th {\n",
       "        vertical-align: top;\n",
       "    }\n",
       "\n",
       "    .dataframe thead th {\n",
       "        text-align: right;\n",
       "    }\n",
       "</style>\n",
       "<table border=\"1\" class=\"dataframe\">\n",
       "  <thead>\n",
       "    <tr style=\"text-align: right;\">\n",
       "      <th></th>\n",
       "      <th>Plasma glucose</th>\n",
       "      <th>Blood Work Result-1</th>\n",
       "      <th>Blood Pressure</th>\n",
       "      <th>Blood Work Result-2</th>\n",
       "      <th>Blood Work Result-3</th>\n",
       "      <th>Body mass index</th>\n",
       "      <th>Blood Work Result-4</th>\n",
       "      <th>Age</th>\n",
       "      <th>Insurance</th>\n",
       "    </tr>\n",
       "  </thead>\n",
       "  <tbody>\n",
       "    <tr>\n",
       "      <th>count</th>\n",
       "      <td>599.000000</td>\n",
       "      <td>599.000000</td>\n",
       "      <td>599.000000</td>\n",
       "      <td>599.000000</td>\n",
       "      <td>599.000000</td>\n",
       "      <td>599.000000</td>\n",
       "      <td>599.000000</td>\n",
       "      <td>599.000000</td>\n",
       "      <td>599.000000</td>\n",
       "    </tr>\n",
       "    <tr>\n",
       "      <th>mean</th>\n",
       "      <td>3.824708</td>\n",
       "      <td>120.153589</td>\n",
       "      <td>68.732888</td>\n",
       "      <td>20.562604</td>\n",
       "      <td>79.460768</td>\n",
       "      <td>31.920033</td>\n",
       "      <td>0.481187</td>\n",
       "      <td>33.290484</td>\n",
       "      <td>0.686144</td>\n",
       "    </tr>\n",
       "    <tr>\n",
       "      <th>std</th>\n",
       "      <td>3.362839</td>\n",
       "      <td>32.682364</td>\n",
       "      <td>19.335675</td>\n",
       "      <td>16.017622</td>\n",
       "      <td>116.576176</td>\n",
       "      <td>8.008227</td>\n",
       "      <td>0.337552</td>\n",
       "      <td>11.828446</td>\n",
       "      <td>0.464447</td>\n",
       "    </tr>\n",
       "    <tr>\n",
       "      <th>min</th>\n",
       "      <td>0.000000</td>\n",
       "      <td>0.000000</td>\n",
       "      <td>0.000000</td>\n",
       "      <td>0.000000</td>\n",
       "      <td>0.000000</td>\n",
       "      <td>0.000000</td>\n",
       "      <td>0.078000</td>\n",
       "      <td>21.000000</td>\n",
       "      <td>0.000000</td>\n",
       "    </tr>\n",
       "    <tr>\n",
       "      <th>25%</th>\n",
       "      <td>1.000000</td>\n",
       "      <td>99.000000</td>\n",
       "      <td>64.000000</td>\n",
       "      <td>0.000000</td>\n",
       "      <td>0.000000</td>\n",
       "      <td>27.100000</td>\n",
       "      <td>0.248000</td>\n",
       "      <td>24.000000</td>\n",
       "      <td>0.000000</td>\n",
       "    </tr>\n",
       "    <tr>\n",
       "      <th>50%</th>\n",
       "      <td>3.000000</td>\n",
       "      <td>116.000000</td>\n",
       "      <td>70.000000</td>\n",
       "      <td>23.000000</td>\n",
       "      <td>36.000000</td>\n",
       "      <td>32.000000</td>\n",
       "      <td>0.383000</td>\n",
       "      <td>29.000000</td>\n",
       "      <td>1.000000</td>\n",
       "    </tr>\n",
       "    <tr>\n",
       "      <th>75%</th>\n",
       "      <td>6.000000</td>\n",
       "      <td>140.000000</td>\n",
       "      <td>80.000000</td>\n",
       "      <td>32.000000</td>\n",
       "      <td>123.500000</td>\n",
       "      <td>36.550000</td>\n",
       "      <td>0.647000</td>\n",
       "      <td>40.000000</td>\n",
       "      <td>1.000000</td>\n",
       "    </tr>\n",
       "    <tr>\n",
       "      <th>max</th>\n",
       "      <td>17.000000</td>\n",
       "      <td>198.000000</td>\n",
       "      <td>122.000000</td>\n",
       "      <td>99.000000</td>\n",
       "      <td>846.000000</td>\n",
       "      <td>67.100000</td>\n",
       "      <td>2.420000</td>\n",
       "      <td>81.000000</td>\n",
       "      <td>1.000000</td>\n",
       "    </tr>\n",
       "  </tbody>\n",
       "</table>\n",
       "</div>"
      ],
      "text/plain": [
       "       Plasma glucose  Blood Work Result-1  Blood Pressure  \\\n",
       "count      599.000000           599.000000      599.000000   \n",
       "mean         3.824708           120.153589       68.732888   \n",
       "std          3.362839            32.682364       19.335675   \n",
       "min          0.000000             0.000000        0.000000   \n",
       "25%          1.000000            99.000000       64.000000   \n",
       "50%          3.000000           116.000000       70.000000   \n",
       "75%          6.000000           140.000000       80.000000   \n",
       "max         17.000000           198.000000      122.000000   \n",
       "\n",
       "       Blood Work Result-2  Blood Work Result-3  Body mass index  \\\n",
       "count           599.000000           599.000000       599.000000   \n",
       "mean             20.562604            79.460768        31.920033   \n",
       "std              16.017622           116.576176         8.008227   \n",
       "min               0.000000             0.000000         0.000000   \n",
       "25%               0.000000             0.000000        27.100000   \n",
       "50%              23.000000            36.000000        32.000000   \n",
       "75%              32.000000           123.500000        36.550000   \n",
       "max              99.000000           846.000000        67.100000   \n",
       "\n",
       "       Blood Work Result-4         Age   Insurance  \n",
       "count           599.000000  599.000000  599.000000  \n",
       "mean              0.481187   33.290484    0.686144  \n",
       "std               0.337552   11.828446    0.464447  \n",
       "min               0.078000   21.000000    0.000000  \n",
       "25%               0.248000   24.000000    0.000000  \n",
       "50%               0.383000   29.000000    1.000000  \n",
       "75%               0.647000   40.000000    1.000000  \n",
       "max               2.420000   81.000000    1.000000  "
      ]
     },
     "execution_count": 20,
     "metadata": {},
     "output_type": "execute_result"
    }
   ],
   "source": [
    "#descriptive statistics of the train data \n",
    "train_copy.describe()"
   ]
  },
  {
   "cell_type": "markdown",
   "metadata": {},
   "source": [
    "> - The mean age of patients is 33.29. With the minimum and maximum ages been 21 and 81 respectively.\n",
    "\n",
    "> - The mean blood pressure of patients was 72.0 mm Hg which indicates a normal blood pressure in the blood pressure category.\n",
    "\n",
    "> - The minimum blood pressure is 24  mm Hg and the maximum is 122  mm Hg"
   ]
  },
  {
   "cell_type": "code",
   "execution_count": 16,
   "metadata": {},
   "outputs": [
    {
     "data": {
      "text/plain": [
       "Index(['ID', 'Plasma glucose', 'Blood Work Result-1', 'Blood Pressure',\n",
       "       'Blood Work Result-2', 'Blood Work Result-3', 'Body mass index',\n",
       "       'Blood Work Result-4', 'Age', 'Insurance', 'Sepsis'],\n",
       "      dtype='object')"
      ]
     },
     "execution_count": 16,
     "metadata": {},
     "output_type": "execute_result"
    }
   ],
   "source": [
    "train_copy.columns"
   ]
  },
  {
   "cell_type": "code",
   "execution_count": 17,
   "metadata": {},
   "outputs": [
    {
     "data": {
      "text/html": [
       "<div>\n",
       "<style scoped>\n",
       "    .dataframe tbody tr th:only-of-type {\n",
       "        vertical-align: middle;\n",
       "    }\n",
       "\n",
       "    .dataframe tbody tr th {\n",
       "        vertical-align: top;\n",
       "    }\n",
       "\n",
       "    .dataframe thead th {\n",
       "        text-align: right;\n",
       "    }\n",
       "</style>\n",
       "<table border=\"1\" class=\"dataframe\">\n",
       "  <thead>\n",
       "    <tr style=\"text-align: right;\">\n",
       "      <th></th>\n",
       "      <th>Plasma glucose</th>\n",
       "      <th>Blood Work Result-1</th>\n",
       "      <th>Blood Pressure</th>\n",
       "      <th>Blood Work Result-2</th>\n",
       "      <th>Blood Work Result-3</th>\n",
       "      <th>Body mass index</th>\n",
       "      <th>Blood Work Result-4</th>\n",
       "      <th>Age</th>\n",
       "      <th>Insurance</th>\n",
       "    </tr>\n",
       "  </thead>\n",
       "  <tbody>\n",
       "    <tr>\n",
       "      <th>0</th>\n",
       "      <td>6</td>\n",
       "      <td>148</td>\n",
       "      <td>72</td>\n",
       "      <td>35</td>\n",
       "      <td>0</td>\n",
       "      <td>33.6</td>\n",
       "      <td>0.627</td>\n",
       "      <td>50</td>\n",
       "      <td>0</td>\n",
       "    </tr>\n",
       "    <tr>\n",
       "      <th>1</th>\n",
       "      <td>1</td>\n",
       "      <td>85</td>\n",
       "      <td>66</td>\n",
       "      <td>29</td>\n",
       "      <td>0</td>\n",
       "      <td>26.6</td>\n",
       "      <td>0.351</td>\n",
       "      <td>31</td>\n",
       "      <td>0</td>\n",
       "    </tr>\n",
       "    <tr>\n",
       "      <th>2</th>\n",
       "      <td>8</td>\n",
       "      <td>183</td>\n",
       "      <td>64</td>\n",
       "      <td>0</td>\n",
       "      <td>0</td>\n",
       "      <td>23.3</td>\n",
       "      <td>0.672</td>\n",
       "      <td>32</td>\n",
       "      <td>1</td>\n",
       "    </tr>\n",
       "    <tr>\n",
       "      <th>3</th>\n",
       "      <td>1</td>\n",
       "      <td>89</td>\n",
       "      <td>66</td>\n",
       "      <td>23</td>\n",
       "      <td>94</td>\n",
       "      <td>28.1</td>\n",
       "      <td>0.167</td>\n",
       "      <td>21</td>\n",
       "      <td>1</td>\n",
       "    </tr>\n",
       "    <tr>\n",
       "      <th>4</th>\n",
       "      <td>0</td>\n",
       "      <td>137</td>\n",
       "      <td>40</td>\n",
       "      <td>35</td>\n",
       "      <td>168</td>\n",
       "      <td>43.1</td>\n",
       "      <td>2.288</td>\n",
       "      <td>33</td>\n",
       "      <td>1</td>\n",
       "    </tr>\n",
       "  </tbody>\n",
       "</table>\n",
       "</div>"
      ],
      "text/plain": [
       "   Plasma glucose  Blood Work Result-1  Blood Pressure  Blood Work Result-2  \\\n",
       "0               6                  148              72                   35   \n",
       "1               1                   85              66                   29   \n",
       "2               8                  183              64                    0   \n",
       "3               1                   89              66                   23   \n",
       "4               0                  137              40                   35   \n",
       "\n",
       "   Blood Work Result-3  Body mass index  Blood Work Result-4  Age  Insurance  \n",
       "0                    0             33.6                0.627   50          0  \n",
       "1                    0             26.6                0.351   31          0  \n",
       "2                    0             23.3                0.672   32          1  \n",
       "3                   94             28.1                0.167   21          1  \n",
       "4                  168             43.1                2.288   33          1  "
      ]
     },
     "execution_count": 17,
     "metadata": {},
     "output_type": "execute_result"
    }
   ],
   "source": [
    "#dropping the ID col since the type is object\n",
    "\n",
    "new_df=train_copy.drop(columns=['ID']).columns\n",
    "new_df=train_copy[['Plasma glucose', 'Blood Work Result-1', 'Blood Pressure',\n",
    "       'Blood Work Result-2', 'Blood Work Result-3', 'Body mass index',\n",
    "       'Blood Work Result-4', 'Age', 'Insurance' ]]\n",
    "new_df.head(5)"
   ]
  },
  {
   "cell_type": "markdown",
   "metadata": {},
   "source": [
    "> - The mean age of patients is 33.29. With the minimum and maximum ages been 21 and 81 respectively.\n",
    "\n",
    "> - The mean blood pressure of patients was 72.0 mm Hg which indicates a normal blood pressure in the blood pressure category.\n",
    "\n",
    "> - The minimum blood pressure is 24  mm Hg and the maximum is 122  mm Hg"
   ]
  },
  {
   "cell_type": "code",
   "execution_count": 19,
   "metadata": {},
   "outputs": [
    {
     "data": {
      "image/png": "[encoded data removed]",
      "text/plain": [
       "<Figure size 640x480 with 2 Axes>"
      ]
     },
     "metadata": {},
     "output_type": "display_data"
    }
   ],
   "source": [
    "#checking correlation between features\n",
    "\n",
    "corr=new_df.corr()\n",
    "sns.heatmap(corr, annot=True, cmap='coolwarm')\n",
    "\n",
    "# Show the plot\n",
    "plt.show()"
   ]
  },
  {
   "cell_type": "markdown",
   "metadata": {},
   "source": [
    "> -  Features with high correlation between them were age and plasma glucose, and body mass index and blood work results-2.\n",
    "\n",
    "> - Their correlation were 0.53 and 0.54 respectively."
   ]
  },
  {
   "cell_type": "code",
   "execution_count": 25,
   "metadata": {},
   "outputs": [
    {
     "data": {
      "text/html": [
       "<div>\n",
       "<style scoped>\n",
       "    .dataframe tbody tr th:only-of-type {\n",
       "        vertical-align: middle;\n",
       "    }\n",
       "\n",
       "    .dataframe tbody tr th {\n",
       "        vertical-align: top;\n",
       "    }\n",
       "\n",
       "    .dataframe thead th {\n",
       "        text-align: right;\n",
       "    }\n",
       "</style>\n",
       "<table border=\"1\" class=\"dataframe\">\n",
       "  <thead>\n",
       "    <tr style=\"text-align: right;\">\n",
       "      <th></th>\n",
       "      <th>ID</th>\n",
       "      <th>Plasma glucose</th>\n",
       "      <th>Blood Work Result-1</th>\n",
       "      <th>Blood Pressure</th>\n",
       "      <th>Blood Work Result-2</th>\n",
       "      <th>Blood Work Result-3</th>\n",
       "      <th>Body mass index</th>\n",
       "      <th>Blood Work Result-4</th>\n",
       "      <th>Age</th>\n",
       "      <th>Insurance</th>\n",
       "      <th>Sepsis</th>\n",
       "    </tr>\n",
       "  </thead>\n",
       "  <tbody>\n",
       "    <tr>\n",
       "      <th>0</th>\n",
       "      <td>ICU200010</td>\n",
       "      <td>6</td>\n",
       "      <td>148</td>\n",
       "      <td>72</td>\n",
       "      <td>35</td>\n",
       "      <td>0</td>\n",
       "      <td>33.6</td>\n",
       "      <td>0.627</td>\n",
       "      <td>50</td>\n",
       "      <td>0</td>\n",
       "      <td>Positive</td>\n",
       "    </tr>\n",
       "    <tr>\n",
       "      <th>1</th>\n",
       "      <td>ICU200011</td>\n",
       "      <td>1</td>\n",
       "      <td>85</td>\n",
       "      <td>66</td>\n",
       "      <td>29</td>\n",
       "      <td>0</td>\n",
       "      <td>26.6</td>\n",
       "      <td>0.351</td>\n",
       "      <td>31</td>\n",
       "      <td>0</td>\n",
       "      <td>Negative</td>\n",
       "    </tr>\n",
       "    <tr>\n",
       "      <th>2</th>\n",
       "      <td>ICU200012</td>\n",
       "      <td>8</td>\n",
       "      <td>183</td>\n",
       "      <td>64</td>\n",
       "      <td>0</td>\n",
       "      <td>0</td>\n",
       "      <td>23.3</td>\n",
       "      <td>0.672</td>\n",
       "      <td>32</td>\n",
       "      <td>1</td>\n",
       "      <td>Positive</td>\n",
       "    </tr>\n",
       "    <tr>\n",
       "      <th>3</th>\n",
       "      <td>ICU200013</td>\n",
       "      <td>1</td>\n",
       "      <td>89</td>\n",
       "      <td>66</td>\n",
       "      <td>23</td>\n",
       "      <td>94</td>\n",
       "      <td>28.1</td>\n",
       "      <td>0.167</td>\n",
       "      <td>21</td>\n",
       "      <td>1</td>\n",
       "      <td>Negative</td>\n",
       "    </tr>\n",
       "    <tr>\n",
       "      <th>4</th>\n",
       "      <td>ICU200014</td>\n",
       "      <td>0</td>\n",
       "      <td>137</td>\n",
       "      <td>40</td>\n",
       "      <td>35</td>\n",
       "      <td>168</td>\n",
       "      <td>43.1</td>\n",
       "      <td>2.288</td>\n",
       "      <td>33</td>\n",
       "      <td>1</td>\n",
       "      <td>Positive</td>\n",
       "    </tr>\n",
       "  </tbody>\n",
       "</table>\n",
       "</div>"
      ],
      "text/plain": [
       "          ID  Plasma glucose  Blood Work Result-1  Blood Pressure  \\\n",
       "0  ICU200010               6                  148              72   \n",
       "1  ICU200011               1                   85              66   \n",
       "2  ICU200012               8                  183              64   \n",
       "3  ICU200013               1                   89              66   \n",
       "4  ICU200014               0                  137              40   \n",
       "\n",
       "   Blood Work Result-2  Blood Work Result-3  Body mass index  \\\n",
       "0                   35                    0             33.6   \n",
       "1                   29                    0             26.6   \n",
       "2                    0                    0             23.3   \n",
       "3                   23                   94             28.1   \n",
       "4                   35                  168             43.1   \n",
       "\n",
       "   Blood Work Result-4  Age  Insurance    Sepsis  \n",
       "0                0.627   50          0  Positive  \n",
       "1                0.351   31          0  Negative  \n",
       "2                0.672   32          1  Positive  \n",
       "3                0.167   21          1  Negative  \n",
       "4                2.288   33          1  Positive  "
      ]
     },
     "execution_count": 25,
     "metadata": {},
     "output_type": "execute_result"
    }
   ],
   "source": [
    "train_copy.head()"
   ]
  },
  {
   "cell_type": "code",
   "execution_count": 26,
   "metadata": {},
   "outputs": [
    {
     "data": {
      "text/html": [
       "<div>\n",
       "<style scoped>\n",
       "    .dataframe tbody tr th:only-of-type {\n",
       "        vertical-align: middle;\n",
       "    }\n",
       "\n",
       "    .dataframe tbody tr th {\n",
       "        vertical-align: top;\n",
       "    }\n",
       "\n",
       "    .dataframe thead th {\n",
       "        text-align: right;\n",
       "    }\n",
       "</style>\n",
       "<table border=\"1\" class=\"dataframe\">\n",
       "  <thead>\n",
       "    <tr style=\"text-align: right;\">\n",
       "      <th></th>\n",
       "      <th>ID</th>\n",
       "      <th>Plasma glucose</th>\n",
       "      <th>Blood Work Result-1</th>\n",
       "      <th>Blood Pressure</th>\n",
       "      <th>Blood Work Result-2</th>\n",
       "      <th>Blood Work Result-3</th>\n",
       "      <th>Body mass index</th>\n",
       "      <th>Blood Work Result-4</th>\n",
       "      <th>Age</th>\n",
       "      <th>Insurance</th>\n",
       "      <th>Sepsis</th>\n",
       "    </tr>\n",
       "  </thead>\n",
       "  <tbody>\n",
       "    <tr>\n",
       "      <th>0</th>\n",
       "      <td>ICU200010</td>\n",
       "      <td>6</td>\n",
       "      <td>148</td>\n",
       "      <td>72</td>\n",
       "      <td>35</td>\n",
       "      <td>0</td>\n",
       "      <td>33.6</td>\n",
       "      <td>0.627</td>\n",
       "      <td>50</td>\n",
       "      <td>0</td>\n",
       "      <td>1</td>\n",
       "    </tr>\n",
       "    <tr>\n",
       "      <th>1</th>\n",
       "      <td>ICU200011</td>\n",
       "      <td>1</td>\n",
       "      <td>85</td>\n",
       "      <td>66</td>\n",
       "      <td>29</td>\n",
       "      <td>0</td>\n",
       "      <td>26.6</td>\n",
       "      <td>0.351</td>\n",
       "      <td>31</td>\n",
       "      <td>0</td>\n",
       "      <td>0</td>\n",
       "    </tr>\n",
       "    <tr>\n",
       "      <th>2</th>\n",
       "      <td>ICU200012</td>\n",
       "      <td>8</td>\n",
       "      <td>183</td>\n",
       "      <td>64</td>\n",
       "      <td>0</td>\n",
       "      <td>0</td>\n",
       "      <td>23.3</td>\n",
       "      <td>0.672</td>\n",
       "      <td>32</td>\n",
       "      <td>1</td>\n",
       "      <td>1</td>\n",
       "    </tr>\n",
       "    <tr>\n",
       "      <th>3</th>\n",
       "      <td>ICU200013</td>\n",
       "      <td>1</td>\n",
       "      <td>89</td>\n",
       "      <td>66</td>\n",
       "      <td>23</td>\n",
       "      <td>94</td>\n",
       "      <td>28.1</td>\n",
       "      <td>0.167</td>\n",
       "      <td>21</td>\n",
       "      <td>1</td>\n",
       "      <td>0</td>\n",
       "    </tr>\n",
       "    <tr>\n",
       "      <th>4</th>\n",
       "      <td>ICU200014</td>\n",
       "      <td>0</td>\n",
       "      <td>137</td>\n",
       "      <td>40</td>\n",
       "      <td>35</td>\n",
       "      <td>168</td>\n",
       "      <td>43.1</td>\n",
       "      <td>2.288</td>\n",
       "      <td>33</td>\n",
       "      <td>1</td>\n",
       "      <td>1</td>\n",
       "    </tr>\n",
       "  </tbody>\n",
       "</table>\n",
       "</div>"
      ],
      "text/plain": [
       "          ID  Plasma glucose  Blood Work Result-1  Blood Pressure  \\\n",
       "0  ICU200010               6                  148              72   \n",
       "1  ICU200011               1                   85              66   \n",
       "2  ICU200012               8                  183              64   \n",
       "3  ICU200013               1                   89              66   \n",
       "4  ICU200014               0                  137              40   \n",
       "\n",
       "   Blood Work Result-2  Blood Work Result-3  Body mass index  \\\n",
       "0                   35                    0             33.6   \n",
       "1                   29                    0             26.6   \n",
       "2                    0                    0             23.3   \n",
       "3                   23                   94             28.1   \n",
       "4                   35                  168             43.1   \n",
       "\n",
       "   Blood Work Result-4  Age  Insurance  Sepsis  \n",
       "0                0.627   50          0       1  \n",
       "1                0.351   31          0       0  \n",
       "2                0.672   32          1       1  \n",
       "3                0.167   21          1       0  \n",
       "4                2.288   33          1       1  "
      ]
     },
     "execution_count": 26,
     "metadata": {},
     "output_type": "execute_result"
    }
   ],
   "source": [
    "train_copy['Sepsis'] = train_copy['Sepsis'].replace({'Positive': 1, 'Negative': 0})\n",
    "\n",
    "train_copy.head()"
   ]
  },
  {
   "cell_type": "code",
   "execution_count": 29,
   "metadata": {},
   "outputs": [
    {
     "data": {
      "text/html": [
       "<div>\n",
       "<style scoped>\n",
       "    .dataframe tbody tr th:only-of-type {\n",
       "        vertical-align: middle;\n",
       "    }\n",
       "\n",
       "    .dataframe tbody tr th {\n",
       "        vertical-align: top;\n",
       "    }\n",
       "\n",
       "    .dataframe thead th {\n",
       "        text-align: right;\n",
       "    }\n",
       "</style>\n",
       "<table border=\"1\" class=\"dataframe\">\n",
       "  <thead>\n",
       "    <tr style=\"text-align: right;\">\n",
       "      <th></th>\n",
       "      <th>Plasma glucose</th>\n",
       "      <th>Blood Work Result-1</th>\n",
       "      <th>Blood Pressure</th>\n",
       "      <th>Blood Work Result-2</th>\n",
       "      <th>Blood Work Result-3</th>\n",
       "      <th>Body mass index</th>\n",
       "      <th>Blood Work Result-4</th>\n",
       "      <th>Age</th>\n",
       "    </tr>\n",
       "  </thead>\n",
       "  <tbody>\n",
       "    <tr>\n",
       "      <th>0</th>\n",
       "      <td>6</td>\n",
       "      <td>148</td>\n",
       "      <td>72</td>\n",
       "      <td>35</td>\n",
       "      <td>0</td>\n",
       "      <td>33.6</td>\n",
       "      <td>0.627</td>\n",
       "      <td>50</td>\n",
       "    </tr>\n",
       "    <tr>\n",
       "      <th>1</th>\n",
       "      <td>1</td>\n",
       "      <td>85</td>\n",
       "      <td>66</td>\n",
       "      <td>29</td>\n",
       "      <td>0</td>\n",
       "      <td>26.6</td>\n",
       "      <td>0.351</td>\n",
       "      <td>31</td>\n",
       "    </tr>\n",
       "    <tr>\n",
       "      <th>2</th>\n",
       "      <td>8</td>\n",
       "      <td>183</td>\n",
       "      <td>64</td>\n",
       "      <td>0</td>\n",
       "      <td>0</td>\n",
       "      <td>23.3</td>\n",
       "      <td>0.672</td>\n",
       "      <td>32</td>\n",
       "    </tr>\n",
       "    <tr>\n",
       "      <th>3</th>\n",
       "      <td>1</td>\n",
       "      <td>89</td>\n",
       "      <td>66</td>\n",
       "      <td>23</td>\n",
       "      <td>94</td>\n",
       "      <td>28.1</td>\n",
       "      <td>0.167</td>\n",
       "      <td>21</td>\n",
       "    </tr>\n",
       "    <tr>\n",
       "      <th>4</th>\n",
       "      <td>0</td>\n",
       "      <td>137</td>\n",
       "      <td>40</td>\n",
       "      <td>35</td>\n",
       "      <td>168</td>\n",
       "      <td>43.1</td>\n",
       "      <td>2.288</td>\n",
       "      <td>33</td>\n",
       "    </tr>\n",
       "  </tbody>\n",
       "</table>\n",
       "</div>"
      ],
      "text/plain": [
       "   Plasma glucose  Blood Work Result-1  Blood Pressure  Blood Work Result-2  \\\n",
       "0               6                  148              72                   35   \n",
       "1               1                   85              66                   29   \n",
       "2               8                  183              64                    0   \n",
       "3               1                   89              66                   23   \n",
       "4               0                  137              40                   35   \n",
       "\n",
       "   Blood Work Result-3  Body mass index  Blood Work Result-4  Age  \n",
       "0                    0             33.6                0.627   50  \n",
       "1                    0             26.6                0.351   31  \n",
       "2                    0             23.3                0.672   32  \n",
       "3                   94             28.1                0.167   21  \n",
       "4                  168             43.1                2.288   33  "
      ]
     },
     "execution_count": 29,
     "metadata": {},
     "output_type": "execute_result"
    }
   ],
   "source": [
    "# The ID, Insurance and Sepsis columns will be dropped \n",
    "# storing it first so it can be added back later \n",
    "dropped_columns = train_copy[['ID', 'Insurance', 'Sepsis']]\n",
    "\n",
    "#dropping columns\n",
    "train_copy = train_copy.drop(columns=['ID', 'Insurance', 'Sepsis'])\n",
    "\n",
    "train_copy.head()"
   ]
  },
  {
   "cell_type": "code",
   "execution_count": 30,
   "metadata": {},
   "outputs": [],
   "source": [
    "# Replace 0 with NaN this will ignore the zeros to get a more accruate results when the median is calculated\n",
    "train_copy.replace(0, pd.NA, inplace=True)"
   ]
  },
  {
   "cell_type": "code",
   "execution_count": 31,
   "metadata": {},
   "outputs": [
    {
     "data": {
      "text/html": [
       "<div>\n",
       "<style scoped>\n",
       "    .dataframe tbody tr th:only-of-type {\n",
       "        vertical-align: middle;\n",
       "    }\n",
       "\n",
       "    .dataframe tbody tr th {\n",
       "        vertical-align: top;\n",
       "    }\n",
       "\n",
       "    .dataframe thead th {\n",
       "        text-align: right;\n",
       "    }\n",
       "</style>\n",
       "<table border=\"1\" class=\"dataframe\">\n",
       "  <thead>\n",
       "    <tr style=\"text-align: right;\">\n",
       "      <th></th>\n",
       "      <th>Plasma glucose</th>\n",
       "      <th>Blood Work Result-1</th>\n",
       "      <th>Blood Pressure</th>\n",
       "      <th>Blood Work Result-2</th>\n",
       "      <th>Blood Work Result-3</th>\n",
       "      <th>Body mass index</th>\n",
       "      <th>Blood Work Result-4</th>\n",
       "      <th>Age</th>\n",
       "    </tr>\n",
       "  </thead>\n",
       "  <tbody>\n",
       "    <tr>\n",
       "      <th>0</th>\n",
       "      <td>6.0</td>\n",
       "      <td>148.0</td>\n",
       "      <td>72.0</td>\n",
       "      <td>35.0</td>\n",
       "      <td>120.0</td>\n",
       "      <td>33.6</td>\n",
       "      <td>0.627</td>\n",
       "      <td>50</td>\n",
       "    </tr>\n",
       "    <tr>\n",
       "      <th>1</th>\n",
       "      <td>1.0</td>\n",
       "      <td>85.0</td>\n",
       "      <td>66.0</td>\n",
       "      <td>29.0</td>\n",
       "      <td>120.0</td>\n",
       "      <td>26.6</td>\n",
       "      <td>0.351</td>\n",
       "      <td>31</td>\n",
       "    </tr>\n",
       "    <tr>\n",
       "      <th>2</th>\n",
       "      <td>8.0</td>\n",
       "      <td>183.0</td>\n",
       "      <td>64.0</td>\n",
       "      <td>29.0</td>\n",
       "      <td>120.0</td>\n",
       "      <td>23.3</td>\n",
       "      <td>0.672</td>\n",
       "      <td>32</td>\n",
       "    </tr>\n",
       "    <tr>\n",
       "      <th>3</th>\n",
       "      <td>1.0</td>\n",
       "      <td>89.0</td>\n",
       "      <td>66.0</td>\n",
       "      <td>23.0</td>\n",
       "      <td>94.0</td>\n",
       "      <td>28.1</td>\n",
       "      <td>0.167</td>\n",
       "      <td>21</td>\n",
       "    </tr>\n",
       "    <tr>\n",
       "      <th>4</th>\n",
       "      <td>4.0</td>\n",
       "      <td>137.0</td>\n",
       "      <td>40.0</td>\n",
       "      <td>35.0</td>\n",
       "      <td>168.0</td>\n",
       "      <td>43.1</td>\n",
       "      <td>2.288</td>\n",
       "      <td>33</td>\n",
       "    </tr>\n",
       "  </tbody>\n",
       "</table>\n",
       "</div>"
      ],
      "text/plain": [
       "   Plasma glucose  Blood Work Result-1  Blood Pressure  Blood Work Result-2  \\\n",
       "0             6.0                148.0            72.0                 35.0   \n",
       "1             1.0                 85.0            66.0                 29.0   \n",
       "2             8.0                183.0            64.0                 29.0   \n",
       "3             1.0                 89.0            66.0                 23.0   \n",
       "4             4.0                137.0            40.0                 35.0   \n",
       "\n",
       "   Blood Work Result-3  Body mass index  Blood Work Result-4  Age  \n",
       "0                120.0             33.6                0.627   50  \n",
       "1                120.0             26.6                0.351   31  \n",
       "2                120.0             23.3                0.672   32  \n",
       "3                 94.0             28.1                0.167   21  \n",
       "4                168.0             43.1                2.288   33  "
      ]
     },
     "execution_count": 31,
     "metadata": {},
     "output_type": "execute_result"
    }
   ],
   "source": [
    "# Replace NaN with the median of each column\n",
    "train_copy.fillna(train_copy.median(), inplace=True)\n",
    "\n",
    "train_copy.head()"
   ]
  },
  {
   "cell_type": "markdown",
   "metadata": {},
   "source": [
    "### Summary of train data information\n",
    "> - There are 599 rows and 11 columns\n",
    "> - There are no null values and duplicates\n",
    "> - There are 599 unique values in the ID column, 2 unique values in both Insurance and Sepsis column\n",
    "> - Abbreviated names were renamed for more clarity\n",
    "> - Zeros in various columns were replaced with median value"
   ]
  },
  {
   "cell_type": "markdown",
   "metadata": {},
   "source": [
    "## Checking the Test Data"
   ]
  },
  {
   "cell_type": "code",
   "execution_count": 32,
   "metadata": {},
   "outputs": [
    {
     "data": {
      "text/html": [
       "<div>\n",
       "<style scoped>\n",
       "    .dataframe tbody tr th:only-of-type {\n",
       "        vertical-align: middle;\n",
       "    }\n",
       "\n",
       "    .dataframe tbody tr th {\n",
       "        vertical-align: top;\n",
       "    }\n",
       "\n",
       "    .dataframe thead th {\n",
       "        text-align: right;\n",
       "    }\n",
       "</style>\n",
       "<table border=\"1\" class=\"dataframe\">\n",
       "  <thead>\n",
       "    <tr style=\"text-align: right;\">\n",
       "      <th></th>\n",
       "      <th>ID</th>\n",
       "      <th>PRG</th>\n",
       "      <th>PL</th>\n",
       "      <th>PR</th>\n",
       "      <th>SK</th>\n",
       "      <th>TS</th>\n",
       "      <th>M11</th>\n",
       "      <th>BD2</th>\n",
       "      <th>Age</th>\n",
       "      <th>Insurance</th>\n",
       "    </tr>\n",
       "  </thead>\n",
       "  <tbody>\n",
       "    <tr>\n",
       "      <th>0</th>\n",
       "      <td>ICU200609</td>\n",
       "      <td>1</td>\n",
       "      <td>109</td>\n",
       "      <td>38</td>\n",
       "      <td>18</td>\n",
       "      <td>120</td>\n",
       "      <td>23.1</td>\n",
       "      <td>0.407</td>\n",
       "      <td>26</td>\n",
       "      <td>1</td>\n",
       "    </tr>\n",
       "    <tr>\n",
       "      <th>1</th>\n",
       "      <td>ICU200610</td>\n",
       "      <td>1</td>\n",
       "      <td>108</td>\n",
       "      <td>88</td>\n",
       "      <td>19</td>\n",
       "      <td>0</td>\n",
       "      <td>27.1</td>\n",
       "      <td>0.400</td>\n",
       "      <td>24</td>\n",
       "      <td>1</td>\n",
       "    </tr>\n",
       "    <tr>\n",
       "      <th>2</th>\n",
       "      <td>ICU200611</td>\n",
       "      <td>6</td>\n",
       "      <td>96</td>\n",
       "      <td>0</td>\n",
       "      <td>0</td>\n",
       "      <td>0</td>\n",
       "      <td>23.7</td>\n",
       "      <td>0.190</td>\n",
       "      <td>28</td>\n",
       "      <td>1</td>\n",
       "    </tr>\n",
       "    <tr>\n",
       "      <th>3</th>\n",
       "      <td>ICU200612</td>\n",
       "      <td>1</td>\n",
       "      <td>124</td>\n",
       "      <td>74</td>\n",
       "      <td>36</td>\n",
       "      <td>0</td>\n",
       "      <td>27.8</td>\n",
       "      <td>0.100</td>\n",
       "      <td>30</td>\n",
       "      <td>1</td>\n",
       "    </tr>\n",
       "    <tr>\n",
       "      <th>4</th>\n",
       "      <td>ICU200613</td>\n",
       "      <td>7</td>\n",
       "      <td>150</td>\n",
       "      <td>78</td>\n",
       "      <td>29</td>\n",
       "      <td>126</td>\n",
       "      <td>35.2</td>\n",
       "      <td>0.692</td>\n",
       "      <td>54</td>\n",
       "      <td>0</td>\n",
       "    </tr>\n",
       "  </tbody>\n",
       "</table>\n",
       "</div>"
      ],
      "text/plain": [
       "          ID  PRG   PL  PR  SK   TS   M11    BD2  Age  Insurance\n",
       "0  ICU200609    1  109  38  18  120  23.1  0.407   26          1\n",
       "1  ICU200610    1  108  88  19    0  27.1  0.400   24          1\n",
       "2  ICU200611    6   96   0   0    0  23.7  0.190   28          1\n",
       "3  ICU200612    1  124  74  36    0  27.8  0.100   30          1\n",
       "4  ICU200613    7  150  78  29  126  35.2  0.692   54          0"
      ]
     },
     "execution_count": 32,
     "metadata": {},
     "output_type": "execute_result"
    }
   ],
   "source": [
    "#checking test dataset\n",
    "test_data.head()"
   ]
  },
  {
   "cell_type": "code",
   "execution_count": 33,
   "metadata": {},
   "outputs": [
    {
     "name": "stdout",
     "output_type": "stream",
     "text": [
      "<class 'pandas.core.frame.DataFrame'>\n",
      "RangeIndex: 169 entries, 0 to 168\n",
      "Data columns (total 10 columns):\n",
      " #   Column     Non-Null Count  Dtype  \n",
      "---  ------     --------------  -----  \n",
      " 0   ID         169 non-null    object \n",
      " 1   PRG        169 non-null    int64  \n",
      " 2   PL         169 non-null    int64  \n",
      " 3   PR         169 non-null    int64  \n",
      " 4   SK         169 non-null    int64  \n",
      " 5   TS         169 non-null    int64  \n",
      " 6   M11        169 non-null    float64\n",
      " 7   BD2        169 non-null    float64\n",
      " 8   Age        169 non-null    int64  \n",
      " 9   Insurance  169 non-null    int64  \n",
      "dtypes: float64(2), int64(7), object(1)\n",
      "memory usage: 13.3+ KB\n"
     ]
    }
   ],
   "source": [
    "#check test data info\n",
    "test_data.info()"
   ]
  },
  {
   "cell_type": "code",
   "execution_count": 34,
   "metadata": {},
   "outputs": [
    {
     "data": {
      "text/plain": [
       "(169, 10)"
      ]
     },
     "execution_count": 34,
     "metadata": {},
     "output_type": "execute_result"
    }
   ],
   "source": [
    "#check shape of test data\n",
    "test_data.shape"
   ]
  },
  {
   "cell_type": "code",
   "execution_count": 35,
   "metadata": {},
   "outputs": [
    {
     "data": {
      "text/plain": [
       "ID           0\n",
       "PRG          0\n",
       "PL           0\n",
       "PR           0\n",
       "SK           0\n",
       "TS           0\n",
       "M11          0\n",
       "BD2          0\n",
       "Age          0\n",
       "Insurance    0\n",
       "dtype: int64"
      ]
     },
     "execution_count": 35,
     "metadata": {},
     "output_type": "execute_result"
    }
   ],
   "source": [
    "#check null values\n",
    "test_data.isnull().sum()"
   ]
  },
  {
   "cell_type": "code",
   "execution_count": 36,
   "metadata": {},
   "outputs": [
    {
     "data": {
      "text/plain": [
       "0"
      ]
     },
     "execution_count": 36,
     "metadata": {},
     "output_type": "execute_result"
    }
   ],
   "source": [
    "#check duplicates in test data\n",
    "test_data.duplicated().sum()"
   ]
  },
  {
   "cell_type": "code",
   "execution_count": 37,
   "metadata": {},
   "outputs": [
    {
     "data": {
      "text/plain": [
       "ID           169\n",
       "PRG           14\n",
       "PL            85\n",
       "PR            33\n",
       "SK            36\n",
       "TS            66\n",
       "M11          122\n",
       "BD2          156\n",
       "Age           39\n",
       "Insurance      2\n",
       "dtype: int64"
      ]
     },
     "execution_count": 37,
     "metadata": {},
     "output_type": "execute_result"
    }
   ],
   "source": [
    "#check unique values\n",
    "test_data.nunique()"
   ]
  },
  {
   "cell_type": "code",
   "execution_count": 38,
   "metadata": {},
   "outputs": [
    {
     "data": {
      "text/html": [
       "<div>\n",
       "<style scoped>\n",
       "    .dataframe tbody tr th:only-of-type {\n",
       "        vertical-align: middle;\n",
       "    }\n",
       "\n",
       "    .dataframe tbody tr th {\n",
       "        vertical-align: top;\n",
       "    }\n",
       "\n",
       "    .dataframe thead th {\n",
       "        text-align: right;\n",
       "    }\n",
       "</style>\n",
       "<table border=\"1\" class=\"dataframe\">\n",
       "  <thead>\n",
       "    <tr style=\"text-align: right;\">\n",
       "      <th></th>\n",
       "      <th>ID</th>\n",
       "      <th>Plasma glucose</th>\n",
       "      <th>Blood Work Result-1</th>\n",
       "      <th>Blood Pressure</th>\n",
       "      <th>Blood Work Result-2</th>\n",
       "      <th>Blood Work Result-3</th>\n",
       "      <th>Body mass index</th>\n",
       "      <th>Blood Work Result-4</th>\n",
       "      <th>Age</th>\n",
       "      <th>Insurance</th>\n",
       "    </tr>\n",
       "  </thead>\n",
       "  <tbody>\n",
       "    <tr>\n",
       "      <th>0</th>\n",
       "      <td>ICU200609</td>\n",
       "      <td>1</td>\n",
       "      <td>109</td>\n",
       "      <td>38</td>\n",
       "      <td>18</td>\n",
       "      <td>120</td>\n",
       "      <td>23.1</td>\n",
       "      <td>0.407</td>\n",
       "      <td>26</td>\n",
       "      <td>1</td>\n",
       "    </tr>\n",
       "    <tr>\n",
       "      <th>1</th>\n",
       "      <td>ICU200610</td>\n",
       "      <td>1</td>\n",
       "      <td>108</td>\n",
       "      <td>88</td>\n",
       "      <td>19</td>\n",
       "      <td>0</td>\n",
       "      <td>27.1</td>\n",
       "      <td>0.400</td>\n",
       "      <td>24</td>\n",
       "      <td>1</td>\n",
       "    </tr>\n",
       "    <tr>\n",
       "      <th>2</th>\n",
       "      <td>ICU200611</td>\n",
       "      <td>6</td>\n",
       "      <td>96</td>\n",
       "      <td>0</td>\n",
       "      <td>0</td>\n",
       "      <td>0</td>\n",
       "      <td>23.7</td>\n",
       "      <td>0.190</td>\n",
       "      <td>28</td>\n",
       "      <td>1</td>\n",
       "    </tr>\n",
       "    <tr>\n",
       "      <th>3</th>\n",
       "      <td>ICU200612</td>\n",
       "      <td>1</td>\n",
       "      <td>124</td>\n",
       "      <td>74</td>\n",
       "      <td>36</td>\n",
       "      <td>0</td>\n",
       "      <td>27.8</td>\n",
       "      <td>0.100</td>\n",
       "      <td>30</td>\n",
       "      <td>1</td>\n",
       "    </tr>\n",
       "    <tr>\n",
       "      <th>4</th>\n",
       "      <td>ICU200613</td>\n",
       "      <td>7</td>\n",
       "      <td>150</td>\n",
       "      <td>78</td>\n",
       "      <td>29</td>\n",
       "      <td>126</td>\n",
       "      <td>35.2</td>\n",
       "      <td>0.692</td>\n",
       "      <td>54</td>\n",
       "      <td>0</td>\n",
       "    </tr>\n",
       "  </tbody>\n",
       "</table>\n",
       "</div>"
      ],
      "text/plain": [
       "          ID  Plasma glucose  Blood Work Result-1  Blood Pressure  \\\n",
       "0  ICU200609               1                  109              38   \n",
       "1  ICU200610               1                  108              88   \n",
       "2  ICU200611               6                   96               0   \n",
       "3  ICU200612               1                  124              74   \n",
       "4  ICU200613               7                  150              78   \n",
       "\n",
       "   Blood Work Result-2  Blood Work Result-3  Body mass index  \\\n",
       "0                   18                  120             23.1   \n",
       "1                   19                    0             27.1   \n",
       "2                    0                    0             23.7   \n",
       "3                   36                    0             27.8   \n",
       "4                   29                  126             35.2   \n",
       "\n",
       "   Blood Work Result-4  Age  Insurance  \n",
       "0                0.407   26          1  \n",
       "1                0.400   24          1  \n",
       "2                0.190   28          1  \n",
       "3                0.100   30          1  \n",
       "4                0.692   54          0  "
      ]
     },
     "execution_count": 38,
     "metadata": {},
     "output_type": "execute_result"
    }
   ],
   "source": [
    "#rename columns\n",
    "test_data.rename(columns = {'PRG':'Plasma glucose', 'PL':'Blood Work Result-1',\n",
    "                              'PR':'Blood Pressure', 'SK':'Blood Work Result-2', 'TS':'Blood Work Result-3', 'M11':'Body mass index', \n",
    "                             'BD2':'Blood Work Result-4'}, inplace = True)\n",
    "test_data.head()"
   ]
  },
  {
   "cell_type": "code",
   "execution_count": 39,
   "metadata": {},
   "outputs": [
    {
     "data": {
      "text/plain": [
       "ID                      0\n",
       "Plasma glucose         18\n",
       "Blood Work Result-1     0\n",
       "Blood Pressure          7\n",
       "Blood Work Result-2    52\n",
       "Blood Work Result-3    85\n",
       "Body mass index         2\n",
       "Blood Work Result-4     0\n",
       "Age                     0\n",
       "Insurance              46\n",
       "dtype: int64"
      ]
     },
     "execution_count": 39,
     "metadata": {},
     "output_type": "execute_result"
    }
   ],
   "source": [
    "#finding the number of zeros in each column in the test data\n",
    "\n",
    "zeros_in_each_col = test_data.eq(0).sum()\n",
    "\n",
    "zeros_in_each_col"
   ]
  },
  {
   "cell_type": "markdown",
   "metadata": {},
   "source": [
    "### Summary of test data information\n",
    "> - There are 169 rows and 11 columns\n",
    "> - There are no null values and duplicates\n",
    "> - There are 169 unique values in the ID column, 2 unique values in Insurance column\n",
    "> - Abbreviated names were renamed for more clarity\n",
    "> - The test data also had zeros in some columns. This will later be worked on"
   ]
  },
  {
   "cell_type": "markdown",
   "metadata": {},
   "source": [
    "## Univariate Analysis\n",
    "\n",
    "‘Univariate analysis’ is the analysis of one variable at a time. This analysis might be done by computing some statistical indicators and by plotting some charts respectively using the pandas dataframe's method `.describe()` and one of the plotting libraries like  [Seaborn](https://seaborn.pydata.org/), [Matplotlib](https://matplotlib.org/), [Plotly](https://seaborn.pydata.org/), etc.\n",
    "\n",
    "Please, read [this article](https://towardsdatascience.com/8-seaborn-plots-for-univariate-exploratory-data-analysis-eda-in-python-9d280b6fe67f) to know more about the charts."
   ]
  },
  {
   "cell_type": "markdown",
   "metadata": {},
   "source": [
    "### Answering Research Questions"
   ]
  },
  {
   "cell_type": "markdown",
   "metadata": {},
   "source": [
    "#### 1. Is the the target feature (sepsis) balanced?"
   ]
  },
  {
   "cell_type": "code",
   "execution_count": 40,
   "metadata": {},
   "outputs": [
    {
     "ename": "KeyError",
     "evalue": "'Sepsis'",
     "output_type": "error",
     "traceback": [
      "\u001b[1;31m---------------------------------------------------------------------------\u001b[0m",
      "\u001b[1;31mKeyError\u001b[0m                                  Traceback (most recent call last)",
      "File \u001b[1;32md:\\applications\\Lib\\site-packages\\pandas\\core\\indexes\\base.py:3805\u001b[0m, in \u001b[0;36mIndex.get_loc\u001b[1;34m(self, key)\u001b[0m\n\u001b[0;32m   3804\u001b[0m \u001b[38;5;28;01mtry\u001b[39;00m:\n\u001b[1;32m-> 3805\u001b[0m     \u001b[38;5;28;01mreturn\u001b[39;00m \u001b[38;5;28mself\u001b[39m\u001b[38;5;241m.\u001b[39m_engine\u001b[38;5;241m.\u001b[39mget_loc(casted_key)\n\u001b[0;32m   3806\u001b[0m \u001b[38;5;28;01mexcept\u001b[39;00m \u001b[38;5;167;01mKeyError\u001b[39;00m \u001b[38;5;28;01mas\u001b[39;00m err:\n",
      "File \u001b[1;32mindex.pyx:167\u001b[0m, in \u001b[0;36mpandas._libs.index.IndexEngine.get_loc\u001b[1;34m()\u001b[0m\n",
      "File \u001b[1;32mindex.pyx:196\u001b[0m, in \u001b[0;36mpandas._libs.index.IndexEngine.get_loc\u001b[1;34m()\u001b[0m\n",
      "File \u001b[1;32mpandas\\\\_libs\\\\hashtable_class_helper.pxi:7081\u001b[0m, in \u001b[0;36mpandas._libs.hashtable.PyObjectHashTable.get_item\u001b[1;34m()\u001b[0m\n",
      "File \u001b[1;32mpandas\\\\_libs\\\\hashtable_class_helper.pxi:7089\u001b[0m, in \u001b[0;36mpandas._libs.hashtable.PyObjectHashTable.get_item\u001b[1;34m()\u001b[0m\n",
      "\u001b[1;31mKeyError\u001b[0m: 'Sepsis'",
      "\nThe above exception was the direct cause of the following exception:\n",
      "\u001b[1;31mKeyError\u001b[0m                                  Traceback (most recent call last)",
      "Cell \u001b[1;32mIn[40], line 2\u001b[0m\n\u001b[0;32m      1\u001b[0m \u001b[38;5;66;03m#check the counts of the target feature\u001b[39;00m\n\u001b[1;32m----> 2\u001b[0m counts \u001b[38;5;241m=\u001b[39m train_copy[\u001b[38;5;124m'\u001b[39m\u001b[38;5;124mSepsis\u001b[39m\u001b[38;5;124m'\u001b[39m]\u001b[38;5;241m.\u001b[39mvalue_counts()\n\u001b[0;32m      3\u001b[0m counts\n",
      "File \u001b[1;32md:\\applications\\Lib\\site-packages\\pandas\\core\\frame.py:4102\u001b[0m, in \u001b[0;36mDataFrame.__getitem__\u001b[1;34m(self, key)\u001b[0m\n\u001b[0;32m   4100\u001b[0m \u001b[38;5;28;01mif\u001b[39;00m \u001b[38;5;28mself\u001b[39m\u001b[38;5;241m.\u001b[39mcolumns\u001b[38;5;241m.\u001b[39mnlevels \u001b[38;5;241m>\u001b[39m \u001b[38;5;241m1\u001b[39m:\n\u001b[0;32m   4101\u001b[0m     \u001b[38;5;28;01mreturn\u001b[39;00m \u001b[38;5;28mself\u001b[39m\u001b[38;5;241m.\u001b[39m_getitem_multilevel(key)\n\u001b[1;32m-> 4102\u001b[0m indexer \u001b[38;5;241m=\u001b[39m \u001b[38;5;28mself\u001b[39m\u001b[38;5;241m.\u001b[39mcolumns\u001b[38;5;241m.\u001b[39mget_loc(key)\n\u001b[0;32m   4103\u001b[0m \u001b[38;5;28;01mif\u001b[39;00m is_integer(indexer):\n\u001b[0;32m   4104\u001b[0m     indexer \u001b[38;5;241m=\u001b[39m [indexer]\n",
      "File \u001b[1;32md:\\applications\\Lib\\site-packages\\pandas\\core\\indexes\\base.py:3812\u001b[0m, in \u001b[0;36mIndex.get_loc\u001b[1;34m(self, key)\u001b[0m\n\u001b[0;32m   3807\u001b[0m     \u001b[38;5;28;01mif\u001b[39;00m \u001b[38;5;28misinstance\u001b[39m(casted_key, \u001b[38;5;28mslice\u001b[39m) \u001b[38;5;129;01mor\u001b[39;00m (\n\u001b[0;32m   3808\u001b[0m         \u001b[38;5;28misinstance\u001b[39m(casted_key, abc\u001b[38;5;241m.\u001b[39mIterable)\n\u001b[0;32m   3809\u001b[0m         \u001b[38;5;129;01mand\u001b[39;00m \u001b[38;5;28many\u001b[39m(\u001b[38;5;28misinstance\u001b[39m(x, \u001b[38;5;28mslice\u001b[39m) \u001b[38;5;28;01mfor\u001b[39;00m x \u001b[38;5;129;01min\u001b[39;00m casted_key)\n\u001b[0;32m   3810\u001b[0m     ):\n\u001b[0;32m   3811\u001b[0m         \u001b[38;5;28;01mraise\u001b[39;00m InvalidIndexError(key)\n\u001b[1;32m-> 3812\u001b[0m     \u001b[38;5;28;01mraise\u001b[39;00m \u001b[38;5;167;01mKeyError\u001b[39;00m(key) \u001b[38;5;28;01mfrom\u001b[39;00m \u001b[38;5;21;01merr\u001b[39;00m\n\u001b[0;32m   3813\u001b[0m \u001b[38;5;28;01mexcept\u001b[39;00m \u001b[38;5;167;01mTypeError\u001b[39;00m:\n\u001b[0;32m   3814\u001b[0m     \u001b[38;5;66;03m# If we have a listlike key, _check_indexing_error will raise\u001b[39;00m\n\u001b[0;32m   3815\u001b[0m     \u001b[38;5;66;03m#  InvalidIndexError. Otherwise we fall through and re-raise\u001b[39;00m\n\u001b[0;32m   3816\u001b[0m     \u001b[38;5;66;03m#  the TypeError.\u001b[39;00m\n\u001b[0;32m   3817\u001b[0m     \u001b[38;5;28mself\u001b[39m\u001b[38;5;241m.\u001b[39m_check_indexing_error(key)\n",
      "\u001b[1;31mKeyError\u001b[0m: 'Sepsis'"
     ]
    }
   ],
   "source": [
    "#check the counts of the target feature\n",
    "counts = train_copy['Sepsis'].value_counts()\n",
    "counts"
   ]
  },
  {
   "cell_type": "code",
   "execution_count": null,
   "metadata": {},
   "outputs": [],
   "source": [
    "# Create count plot on \"Sepsis\" column\n",
    "sns.countplot(x=\"Sepsis\", data=train_copy)\n",
    "\n",
    "# Add axis labels\n",
    "plt.xlabel(\"Sepsis\")\n",
    "plt.ylabel(\"Count\")\n",
    "\n",
    "# Show plot\n",
    "plt.show()"
   ]
  },
  {
   "cell_type": "code",
   "execution_count": null,
   "metadata": {},
   "outputs": [],
   "source": [
    "#  Calculate the value counts of the \"Sepsis\" column\n",
    "class_counts =train_copy['Sepsis'].value_counts(normalize=True)\n",
    "\n",
    "# Create a pie chart of the values in the 'Sepsis' column\n",
    "plt.figure(figsize=(6, 6))\n",
    "plt.pie(class_counts, labels=class_counts.index, autopct='%1.1f%%', startangle=90)\n",
    "plt.axis('equal')\n",
    "plt.title('Pie Chart of Sepsis Distribution')\n",
    "\n",
    "# Show the chart\n",
    "plt.show()"
   ]
  },
  {
   "cell_type": "markdown",
   "metadata": {},
   "source": [
    "> - The target feature is imbalanced with 391 negative status representing 65.3%  and 208 positive status representing 34.7% "
   ]
  },
  {
   "cell_type": "markdown",
   "metadata": {},
   "source": [
    "#### 2. Which age range has the highest number of positive sepsis status?\n"
   ]
  },
  {
   "cell_type": "code",
   "execution_count": null,
   "metadata": {},
   "outputs": [],
   "source": [
    "# Note: from the describe method performed above, min age: 21 and max age:81\n",
    "# Define the group ranges\n",
    "age_ranges = [20, 30, 40, 50, 60, 70, 80, 90]\n",
    "\n",
    "# Create a new column 'age_group' based on the age ranges\n",
    "train_copy['age_group'] = pd.cut(train_copy['Age'], bins=age_ranges)\n",
    "\n",
    "# Display the grouped data\n",
    "train_copy.head()"
   ]
  },
  {
   "cell_type": "code",
   "execution_count": 35,
   "metadata": {},
   "outputs": [],
   "source": [
    "#counting the number of patients in each age range\n",
    "agerange_count = train_copy['age_group'].value_counts()"
   ]
  },
  {
   "cell_type": "code",
   "execution_count": null,
   "metadata": {},
   "outputs": [],
   "source": [
    "\n",
    "#visualizing age range count\n",
    "# plot graph\n",
    "plt.figure(figsize=(8, 5))\n",
    "agerange_count.plot.bar()\n",
    "plt.title('The number of patients in each Age Range')\n",
    "plt.xlabel('The Age Ranges')\n",
    "plt.ylabel('Age Count')\n",
    "plt.show()"
   ]
  },
  {
   "cell_type": "markdown",
   "metadata": {},
   "source": [
    "> - Age range with the highest number is from 20 to 30 years."
   ]
  },
  {
   "cell_type": "code",
   "execution_count": 37,
   "metadata": {},
   "outputs": [],
   "source": [
    "# grouping the sepsis into its various status\n",
    "sepsis_positive=train_copy[train_copy['Sepsis']=='Positive']\n",
    "sepsis_negative=train_copy[train_copy['Sepsis']=='Negative']\n",
    "\n",
    "#assigning age group with positive and negative sepsis status \n",
    "age_grp_pos=sepsis_positive['age_group']\n",
    "age_grp_neg=sepsis_negative['age_group']"
   ]
  },
  {
   "cell_type": "code",
   "execution_count": 38,
   "metadata": {},
   "outputs": [],
   "source": [
    "#assigning a variable to the postive age group\n",
    "pos_age_grp=age_grp_pos.value_counts()"
   ]
  },
  {
   "cell_type": "code",
   "execution_count": null,
   "metadata": {},
   "outputs": [],
   "source": [
    "#visualizing age group count\n",
    "# plot graph\n",
    "plt.figure(figsize=(8, 5))\n",
    "pos_age_grp.plot.bar()\n",
    "plt.title('The number of patients in each Age Range with Positive Sepsis Status')\n",
    "plt.xlabel('The Age Ranges')\n",
    "plt.ylabel('Age Count')\n",
    "plt.show()"
   ]
  },
  {
   "cell_type": "markdown",
   "metadata": {},
   "source": [
    "> - From the visualization it can be seen that the highest age range also has the highest number positive sepsis status of 74."
   ]
  },
  {
   "cell_type": "markdown",
   "metadata": {},
   "source": [
    "#### 3. Which of the ranges in the blood pressure category are most patients found?"
   ]
  },
  {
   "cell_type": "markdown",
   "metadata": {},
   "source": [
    "> - The blood pressure categories are : Normal, Elevated and High  \n",
    "\n",
    "> - From the describe method used on the train data the min and max values of the blood pressure are: 24  mm Hg and 122  mm Hg respectively\n",
    "\n"
   ]
  },
  {
   "cell_type": "code",
   "execution_count": 40,
   "metadata": {},
   "outputs": [],
   "source": [
    "# function to create a new column for blood pressure ranges\n",
    "def blood_pressure_ranges(row):\n",
    "    if row['Blood Pressure'] < 80:\n",
    "        return 'normal'\n",
    "    elif row['Blood Pressure'] >= 80 and row['Blood Pressure'] <= 89:\n",
    "        return 'elevated'\n",
    "    elif row['Blood Pressure'] >= 90:\n",
    "        return 'high'"
   ]
  },
  {
   "cell_type": "code",
   "execution_count": null,
   "metadata": {},
   "outputs": [],
   "source": [
    "# create new column\n",
    "train_copy['Blood pressure category'] = train_copy.apply(blood_pressure_ranges, axis=1)\n",
    "train_copy['Blood pressure category'].head()"
   ]
  },
  {
   "cell_type": "code",
   "execution_count": 42,
   "metadata": {},
   "outputs": [],
   "source": [
    "#assigning a variable to the BP range\n",
    "BP_range = train_copy['Blood pressure category'].value_counts()"
   ]
  },
  {
   "cell_type": "code",
   "execution_count": null,
   "metadata": {},
   "outputs": [],
   "source": [
    "BP_range"
   ]
  },
  {
   "cell_type": "code",
   "execution_count": null,
   "metadata": {},
   "outputs": [],
   "source": [
    "#plot graph \n",
    "plt.figure(figsize=(8, 5))\n",
    "BP_range.plot.bar()\n",
    "plt.title('The number of patients in each Blood Pressure Category')\n",
    "plt.xlabel('The BP Ranges')\n",
    "plt.ylabel('BP Counts')\n",
    "plt.show()"
   ]
  },
  {
   "cell_type": "markdown",
   "metadata": {},
   "source": [
    "> - Most of the patients (446) are in the normal category "
   ]
  },
  {
   "cell_type": "markdown",
   "metadata": {},
   "source": [
    "#### 4. Which of the ranges in (3) has a high number positive sepsis status"
   ]
  },
  {
   "cell_type": "code",
   "execution_count": 45,
   "metadata": {},
   "outputs": [],
   "source": [
    "# grouping the sepsis into its various status\n",
    "sepsis_positive=train_copy[train_copy['Sepsis']=='Positive']\n",
    "sepsis_negative=train_copy[train_copy['Sepsis']=='Negative']\n",
    "\n",
    "#assigning age group with positive and negative sepsis status \n",
    "BP_grp_pos=sepsis_positive['Blood pressure category']\n",
    "BP_grp_neg=sepsis_negative['Blood pressure category']\n",
    "\n"
   ]
  },
  {
   "cell_type": "code",
   "execution_count": null,
   "metadata": {},
   "outputs": [],
   "source": [
    "#assigning a variable to the postive age group\n",
    "pos_BP_grp=BP_grp_pos.value_counts()\n",
    "pos_BP_grp"
   ]
  },
  {
   "cell_type": "code",
   "execution_count": null,
   "metadata": {},
   "outputs": [],
   "source": [
    "#visualizing age group count\n",
    "# plot graph\n",
    "plt.figure(figsize=(8, 5))\n",
    "pos_BP_grp.plot.bar()\n",
    "plt.title('The number of patients in each BP Range with Positive Sepsis Status')\n",
    "plt.xlabel('The BP Ranges')\n",
    "plt.ylabel('BP Count')\n",
    "plt.show()"
   ]
  },
  {
   "cell_type": "markdown",
   "metadata": {},
   "source": [
    "> - Patients (140) with normal blood pressure also have the highest positive status"
   ]
  },
  {
   "cell_type": "markdown",
   "metadata": {},
   "source": [
    "#### 5. Which sepsis status has more insured patients?"
   ]
  },
  {
   "cell_type": "code",
   "execution_count": 48,
   "metadata": {},
   "outputs": [],
   "source": [
    "# grouping the sepsis into its various status\n",
    "sepsis_positive=train_copy[train_copy['Sepsis']=='Positive']\n",
    "sepsis_negative=train_copy[train_copy['Sepsis']=='Negative']\n",
    "\n",
    "#assigning age group with positive and negative sepsis status \n",
    "Ins_grp_pos=sepsis_positive['Insurance']\n",
    "Ins_grp_neg=sepsis_negative['Insurance']\n"
   ]
  },
  {
   "cell_type": "code",
   "execution_count": null,
   "metadata": {},
   "outputs": [],
   "source": [
    "#assigning a variable to the postive insured group\n",
    "pos_Ins_grp=Ins_grp_pos.value_counts()\n",
    "pos_Ins_grp"
   ]
  },
  {
   "cell_type": "code",
   "execution_count": null,
   "metadata": {},
   "outputs": [],
   "source": [
    "#visualizing age group count\n",
    "# plot graph\n",
    "plt.figure(figsize=(8, 5))\n",
    "pos_Ins_grp.plot.bar()\n",
    "plt.title('The number of Insured Patients with Positive Sepsis Status')\n",
    "plt.xlabel('Insurance Status')\n",
    "plt.ylabel('Insurance Count')\n",
    "plt.show()"
   ]
  },
  {
   "cell_type": "markdown",
   "metadata": {},
   "source": [
    "> - Most insured patients (151) have positive sepsis status"
   ]
  },
  {
   "cell_type": "markdown",
   "metadata": {},
   "source": [
    "## Multivariate Analysis\n",
    "\n",
    "Multivariate analysis’ is the analysis of more than one variable and aims to study the relationships among them. This analysis might be done by computing some statistical indicators like the `correlation` and by plotting some charts.\n",
    "\n",
    "Please, read [this article](https://towardsdatascience.com/10-must-know-seaborn-functions-for-multivariate-data-analysis-in-python-7ba94847b117) to know more about the charts."
   ]
  },
  {
   "cell_type": "markdown",
   "metadata": {},
   "source": [
    "#### 6. Is there a relationship between blood pressure, body mass index  and sepsis?"
   ]
  },
  {
   "cell_type": "code",
   "execution_count": 51,
   "metadata": {},
   "outputs": [],
   "source": [
    "#create another copy of the train_copy\n",
    "train_copy1=train_copy.copy()"
   ]
  },
  {
   "cell_type": "code",
   "execution_count": null,
   "metadata": {},
   "outputs": [],
   "source": [
    "#  change values in churn column into numerical data\n",
    "train_copy1['Sepsis'] = (train_copy1['Sepsis'] == 'Positive').astype(bool).astype(int)\n",
    "train_copy1['Sepsis'].unique()"
   ]
  },
  {
   "cell_type": "code",
   "execution_count": 53,
   "metadata": {},
   "outputs": [],
   "source": [
    "#drop the ID column \n",
    "train_copy1= train_copy1.drop([ 'ID'], axis = 1)"
   ]
  },
  {
   "cell_type": "code",
   "execution_count": 54,
   "metadata": {},
   "outputs": [],
   "source": [
    "#create a correlation matrix\n",
    "corr_matrix = train_copy1.corr()"
   ]
  },
  {
   "cell_type": "code",
   "execution_count": null,
   "metadata": {},
   "outputs": [],
   "source": [
    "#check how feature correlate with target (Sepsis)\n",
    "corr_matrix['Sepsis'].sort_values(ascending=False)\n"
   ]
  },
  {
   "cell_type": "code",
   "execution_count": null,
   "metadata": {},
   "outputs": [],
   "source": [
    "#create heatmap to check correlation\n",
    "sns.heatmap(corr_matrix, annot=True, cmap='coolwarm')\n",
    "\n",
    "# Show the plot\n",
    "plt.show()"
   ]
  },
  {
   "cell_type": "markdown",
   "metadata": {},
   "source": [
    "> -   The correlation between the various features and the target feature are positive but very weak. The only feature which had a bit of strong correlation with the target feature is the Blood work result-1. It's correlating at 0.48 which can be approximately 0.5 \n",
    "\n",
    "> - Blood pressure and  body mass index are correlating with sepsis at 0.17 and 0.33 respectively "
   ]
  },
  {
   "cell_type": "markdown",
   "metadata": {},
   "source": [
    "#### 7. Are there variations in the different blood work results and sepsis status?"
   ]
  },
  {
   "cell_type": "code",
   "execution_count": null,
   "metadata": {},
   "outputs": [],
   "source": [
    "#graphical representation of the various blood results with sepsis status\n",
    "blood_results = ['Blood Work Result-1','Blood Work Result-2', 'Blood Work Result-3', 'Blood Work Result-4']\n",
    "sns.pairplot(data=train_copy, vars=blood_results, hue='Sepsis')"
   ]
  },
  {
   "cell_type": "markdown",
   "metadata": {},
   "source": [
    "> - Since the target feature is imbalanced, it can be seen that the negative sepsis status dominates in the various blood work results"
   ]
  },
  {
   "cell_type": "markdown",
   "metadata": {},
   "source": [
    "#### 8. What is the relationship between Age and Blood Pressure Categories and Sepsis?"
   ]
  },
  {
   "cell_type": "code",
   "execution_count": null,
   "metadata": {},
   "outputs": [],
   "source": [
    "plt.figure(figsize=(10, 5))\n",
    "sns.boxplot(data=train_copy, y='Age', x='Blood pressure category', hue='Sepsis');\n",
    "\n",
    "plt.legend();"
   ]
  },
  {
   "cell_type": "markdown",
   "metadata": {},
   "source": [
    "> - Most patients with positive sepsis status have high blood pressure and were between the ages of 21 to 69.\n",
    "\n",
    "> - The normal category with the highest number had less patients with positive sepsis status."
   ]
  },
  {
   "cell_type": "markdown",
   "metadata": {
    "id": "R8WB7j-3fxzL"
   },
   "source": [
    "# Feature Processing & Engineering\n",
    "Here is the section to **clean**, **process** the dataset and **create new features**."
   ]
  },
  {
   "cell_type": "markdown",
   "metadata": {
    "id": "X6Rh5SimmcGe"
   },
   "source": [
    "## Drop Duplicates"
   ]
  },
  {
   "cell_type": "code",
   "execution_count": null,
   "metadata": {},
   "outputs": [],
   "source": [
    "# We wil be using the main train data now\n",
    "\n",
    "#Checking duplicates\n",
    "\n",
    "train_data.duplicated().sum()"
   ]
  },
  {
   "cell_type": "markdown",
   "metadata": {},
   "source": [
    "There are no duplicates"
   ]
  },
  {
   "cell_type": "markdown",
   "metadata": {
    "id": "dLJuYG_JgBH8"
   },
   "source": [
    "## Impute Missing Values"
   ]
  },
  {
   "cell_type": "code",
   "execution_count": null,
   "metadata": {
    "id": "52POL1F8gLEa"
   },
   "outputs": [],
   "source": [
    "#check for missing values\n",
    "\n",
    "train_data.isnull().sum()"
   ]
  },
  {
   "cell_type": "code",
   "execution_count": null,
   "metadata": {},
   "outputs": [],
   "source": [
    "#checking train data\n",
    "train_data.head()"
   ]
  },
  {
   "cell_type": "code",
   "execution_count": 62,
   "metadata": {},
   "outputs": [],
   "source": [
    "#changing data type of insurance to category\n",
    "\n",
    "train_data['Insurance']=train_data['Insurance'].astype('category')"
   ]
  },
  {
   "cell_type": "code",
   "execution_count": 63,
   "metadata": {},
   "outputs": [],
   "source": [
    "#changing data type of sepsis to int\n",
    "\n",
    "train_data['Sepsis'] = train_data['Sepsis'].map({'Positive': 1, 'Negative': 0})\n"
   ]
  },
  {
   "cell_type": "code",
   "execution_count": null,
   "metadata": {},
   "outputs": [],
   "source": [
    "train_data.info()"
   ]
  },
  {
   "cell_type": "markdown",
   "metadata": {
    "id": "wxYGw6zug8lI"
   },
   "source": [
    "## Dataset Splitting"
   ]
  },
  {
   "cell_type": "code",
   "execution_count": 65,
   "metadata": {
    "id": "cbsbMbs1hDzo"
   },
   "outputs": [],
   "source": [
    "# Use train_test_split with a random_state, and add stratify for Classification"
   ]
  },
  {
   "cell_type": "code",
   "execution_count": null,
   "metadata": {},
   "outputs": [],
   "source": [
    "# drop ID column\n",
    "train_data = train_data.drop(columns=['ID'])\n",
    "train_data.head()"
   ]
  },
  {
   "cell_type": "code",
   "execution_count": 67,
   "metadata": {},
   "outputs": [],
   "source": [
    "#spliting data into  80% train and  20% test\n",
    "\n",
    "train, test = train_test_split(train_data, test_size=0.2, random_state=42)"
   ]
  },
  {
   "cell_type": "code",
   "execution_count": null,
   "metadata": {},
   "outputs": [],
   "source": [
    "# check and confirm the shape of the train and test data\n",
    "train.shape, test.shape"
   ]
  },
  {
   "cell_type": "code",
   "execution_count": 69,
   "metadata": {},
   "outputs": [],
   "source": [
    "# create features and targets from the train and test\n",
    "X_train = train.drop(columns=['Sepsis'])\n",
    "y_train = train['Sepsis'].copy()\n",
    "\n",
    "X_eval = test.drop(columns=['Sepsis'])\n",
    "y_eval = test['Sepsis'].copy()"
   ]
  },
  {
   "cell_type": "code",
   "execution_count": null,
   "metadata": {},
   "outputs": [],
   "source": [
    "# display head fo the train features dataframe\n",
    "X_train.head()"
   ]
  },
  {
   "cell_type": "code",
   "execution_count": null,
   "metadata": {},
   "outputs": [],
   "source": [
    "# display head for the test features dataframe\n",
    "\n",
    "X_eval.head()"
   ]
  },
  {
   "cell_type": "markdown",
   "metadata": {},
   "source": [
    "## Create Pipeline to Impute Missing Values, Encode columns and Scale Columns"
   ]
  },
  {
   "cell_type": "code",
   "execution_count": null,
   "metadata": {},
   "outputs": [],
   "source": [
    "# check the number of misssing values in the train data\n",
    "X_train.isnull().sum()"
   ]
  },
  {
   "cell_type": "code",
   "execution_count": null,
   "metadata": {},
   "outputs": [],
   "source": [
    "#select the categorical column from train and eval\n",
    "train_cat_col=X_train.select_dtypes(include=['category']).columns\n",
    "eval_cat_col=X_eval.select_dtypes(include=['category']).columns\n",
    "eval_cat_col==train_cat_col"
   ]
  },
  {
   "cell_type": "code",
   "execution_count": null,
   "metadata": {},
   "outputs": [],
   "source": [
    "#select the numerical columns from train and eval dataset\n",
    "train_num_col=X_train.select_dtypes(exclude=['category']).columns\n",
    "eval_num_col=X_eval.select_dtypes(exclude=['category']).columns\n",
    "eval_num_col==train_num_col"
   ]
  },
  {
   "cell_type": "code",
   "execution_count": 75,
   "metadata": {},
   "outputs": [],
   "source": [
    "#creating variables to hold numerical and categorical columns\n",
    "\n",
    "num_attribs = list(train_num_col)\n",
    "cat_attribs = list(train_cat_col)"
   ]
  },
  {
   "cell_type": "code",
   "execution_count": null,
   "metadata": {},
   "outputs": [],
   "source": [
    "#viewing the cols\n",
    "num_attribs, cat_attribs"
   ]
  },
  {
   "cell_type": "code",
   "execution_count": 77,
   "metadata": {},
   "outputs": [],
   "source": [
    "#create a numerical pipeline to standardize and impute using median strategy for outliers and missing data in the numerical columns\n",
    "num_pipeline = Pipeline([('imputer',SimpleImputer(strategy=\"median\")),('std_scaler', StandardScaler())])\n",
    "\n",
    "#create a categorical pipeline to encode and impute the missing data in the categorical columns\n",
    "cat_pipeline = Pipeline([('imputer',SimpleImputer(strategy=\"most_frequent\")),('cat_encoder', OneHotEncoder(handle_unknown='ignore'))])"
   ]
  },
  {
   "cell_type": "code",
   "execution_count": 78,
   "metadata": {},
   "outputs": [],
   "source": [
    "# Create a fullpipeline for numerical  and categorical pipeline\n",
    "\n",
    "full_pipeline = ColumnTransformer([(\"numerical\",num_pipeline, num_attribs), (\"categorical\",cat_pipeline, cat_attribs)])"
   ]
  },
  {
   "cell_type": "code",
   "execution_count": 79,
   "metadata": {},
   "outputs": [],
   "source": [
    "# use created pipeline to transform train and eval features\n",
    "X_train_prepared = full_pipeline.fit_transform(X_train)\n",
    "X_eval_prepared = full_pipeline.transform(X_eval)"
   ]
  },
  {
   "cell_type": "code",
   "execution_count": null,
   "metadata": {},
   "outputs": [],
   "source": [
    "# get categorical columns after transformation\n",
    "cat_features = full_pipeline.named_transformers_['categorical']['cat_encoder'].get_feature_names_out()\n",
    "cat_features"
   ]
  },
  {
   "cell_type": "code",
   "execution_count": 81,
   "metadata": {},
   "outputs": [],
   "source": [
    "#joining numerical and categorical columns\n",
    "columns_ = np.concatenate([train_num_col, cat_features])"
   ]
  },
  {
   "cell_type": "code",
   "execution_count": null,
   "metadata": {},
   "outputs": [],
   "source": [
    "#creating a dataframe for the train data test\n",
    "X_train_ = pd.DataFrame(X_train_prepared, columns=columns_)\n",
    "X_train_ = X_train_.rename(columns={'x0_0':'Insurance_0', 'x0_1': 'Insurance_1'})\n",
    "X_train_.head()"
   ]
  },
  {
   "cell_type": "code",
   "execution_count": null,
   "metadata": {},
   "outputs": [],
   "source": [
    "X_train_.shape"
   ]
  },
  {
   "cell_type": "code",
   "execution_count": null,
   "metadata": {},
   "outputs": [],
   "source": [
    "#creating a dataframe for the eval data test\n",
    "X_eval_ = pd.DataFrame(X_eval_prepared, columns=columns_)\n",
    "X_eval_ = X_eval_.rename(columns={'x0_0':'Insurance_0', 'x0_1': 'Insurance_1'})\n",
    "X_eval_.head()"
   ]
  },
  {
   "cell_type": "code",
   "execution_count": null,
   "metadata": {},
   "outputs": [],
   "source": [
    "X_eval_.shape"
   ]
  },
  {
   "cell_type": "code",
   "execution_count": null,
   "metadata": {},
   "outputs": [],
   "source": [
    "X_eval_.info()"
   ]
  },
  {
   "cell_type": "markdown",
   "metadata": {
    "id": "4-UlAVv4iYz8"
   },
   "source": [
    "## Optional: Train Dataset Balancing "
   ]
  },
  {
   "cell_type": "code",
   "execution_count": 86,
   "metadata": {
    "id": "ySLn254IiujE"
   },
   "outputs": [],
   "source": [
    "# Use Over-sampling/Under-sampling methods, more details here: https://imbalanced-learn.org/stable/install.html"
   ]
  },
  {
   "cell_type": "code",
   "execution_count": 87,
   "metadata": {},
   "outputs": [],
   "source": [
    "# Count the number of unique values in the target\n",
    "# y_train.value_counts()"
   ]
  },
  {
   "cell_type": "code",
   "execution_count": 88,
   "metadata": {},
   "outputs": [],
   "source": [
    "# Create an instance of SMOTE and fit it on the train feature and targets\n",
    "# sm = SMOTE(sampling_strategy='minority')\n",
    "# X_train_, y_train = sm.fit_resample(X_train_, y_train)"
   ]
  },
  {
   "cell_type": "code",
   "execution_count": 89,
   "metadata": {},
   "outputs": [],
   "source": [
    "# let's confirm the increase in rows after oversampling\n",
    "# len(X_train_), len(y_train)"
   ]
  },
  {
   "cell_type": "code",
   "execution_count": 90,
   "metadata": {},
   "outputs": [],
   "source": [
    "# Confirm values counts for the targets\n",
    "# y_train.value_counts()"
   ]
  },
  {
   "cell_type": "markdown",
   "metadata": {
    "id": "WloQgMqqf6bT"
   },
   "source": [
    "# Machine Learning Modeling \n",
    "Here is the section to **build**, **train**, **evaluate** and **compare** the models to each others."
   ]
  },
  {
   "cell_type": "markdown",
   "metadata": {
    "id": "tTiiqCnG1FA2"
   },
   "source": [
    "## Decision Tree\n",
    "\n",
    "Please, keep the following structure to try all the model you want."
   ]
  },
  {
   "cell_type": "markdown",
   "metadata": {
    "id": "46li5Z2z1ME7"
   },
   "source": [
    "### Create the Model"
   ]
  },
  {
   "cell_type": "code",
   "execution_count": 91,
   "metadata": {
    "id": "1Fjv6pJt1uoV"
   },
   "outputs": [],
   "source": [
    "# let's create a decision tree model\n",
    "dclf = DecisionTreeClassifier()"
   ]
  },
  {
   "cell_type": "markdown",
   "metadata": {
    "id": "XwHqTKk11U5f"
   },
   "source": [
    "### Train the Model"
   ]
  },
  {
   "cell_type": "code",
   "execution_count": null,
   "metadata": {
    "id": "fgsct6LH1v9e"
   },
   "outputs": [],
   "source": [
    "# Use the .fit method to train the model\n",
    "dclf.fit(X_train_, y_train)"
   ]
  },
  {
   "cell_type": "markdown",
   "metadata": {
    "id": "M6aXGMEf1Yra"
   },
   "source": [
    "### Evaluate the Model on the Evaluation dataset (Evalset)"
   ]
  },
  {
   "cell_type": "code",
   "execution_count": 93,
   "metadata": {
    "id": "9XBrsspR1wso"
   },
   "outputs": [],
   "source": [
    "# Compute the valid metrics for the use case # Optional: show the classification report \n",
    "\n",
    "def evaluate_model(model, test, y_true):\n",
    "    # Compute the valid metrics for the use case # Optional: show the classification report\n",
    "    pred = model.predict(test)\n",
    "    F1 = f1_score(y_true, pred)\n",
    "    Recall = recall_score(y_true, pred)\n",
    "    AUC = roc_auc_score(y_true, pred)\n",
    "    \n",
    " \n",
    "   \n",
    "    return Recall, AUC, F1, pred"
   ]
  },
  {
   "cell_type": "markdown",
   "metadata": {},
   "source": [
    "### Results of the model on train set"
   ]
  },
  {
   "cell_type": "code",
   "execution_count": 94,
   "metadata": {},
   "outputs": [],
   "source": [
    "Recall_dclf, Auc_dclf, F1_dclf, dclf_pred = evaluate_model(dclf, X_train_, y_train)"
   ]
  },
  {
   "cell_type": "code",
   "execution_count": null,
   "metadata": {},
   "outputs": [],
   "source": [
    "train_results = pd.DataFrame([['Decision Tree Train', Recall_dclf, Auc_dclf, F1_dclf]], columns = ['Model', 'Recall', 'AUC','F1_score'])\n",
    "train_results"
   ]
  },
  {
   "cell_type": "markdown",
   "metadata": {},
   "source": [
    "### Results of the model on evaluation set"
   ]
  },
  {
   "cell_type": "code",
   "execution_count": null,
   "metadata": {},
   "outputs": [],
   "source": [
    "dclf_eval = DecisionTreeClassifier()\n",
    "dclf_eval.fit(X_train_, y_train)"
   ]
  },
  {
   "cell_type": "code",
   "execution_count": 97,
   "metadata": {},
   "outputs": [],
   "source": [
    "Recall_dclf_eval, Auc_dclf_eval, F1_dclf_eval, dclf_eval_pred = evaluate_model(dclf_eval, X_eval_, y_eval)"
   ]
  },
  {
   "cell_type": "code",
   "execution_count": null,
   "metadata": {},
   "outputs": [],
   "source": [
    "eval_results = pd.DataFrame([['Decision Tree Eval', Recall_dclf_eval, Auc_dclf_eval, F1_dclf_eval]], columns = ['Model', 'Recall', 'AUC','F1_score'])\n",
    "eval_results\n",
    "\n",
    "combined_results_dclf= pd.concat([train_results, eval_results], ignore_index=True)\n",
    "combined_results_dclf"
   ]
  },
  {
   "cell_type": "markdown",
   "metadata": {
    "id": "001NdcP11dMu"
   },
   "source": [
    "### Predict on a unknown dataset (Testset)"
   ]
  },
  {
   "cell_type": "code",
   "execution_count": 99,
   "metadata": {
    "id": "mWnGeGn0i3b0"
   },
   "outputs": [],
   "source": [
    "# Use .predict method # .predict_proba is available just for classification"
   ]
  },
  {
   "cell_type": "markdown",
   "metadata": {
    "id": "A54gPujOmqaV"
   },
   "source": [
    "## RandomForest"
   ]
  },
  {
   "cell_type": "markdown",
   "metadata": {
    "id": "MC6WaxZUmqaW"
   },
   "source": [
    "### Create the Model"
   ]
  },
  {
   "cell_type": "code",
   "execution_count": 100,
   "metadata": {
    "id": "THTw7OjhmqaW"
   },
   "outputs": [],
   "source": [
    "rfc = RandomForestClassifier()"
   ]
  },
  {
   "cell_type": "code",
   "execution_count": null,
   "metadata": {},
   "outputs": [],
   "source": [
    "# Use the .fit method\n",
    "rfc.fit(X_train_, y_train)"
   ]
  },
  {
   "cell_type": "markdown",
   "metadata": {},
   "source": [
    "### Evaluate the Model on the Evaluation dataset (Evalset)"
   ]
  },
  {
   "cell_type": "markdown",
   "metadata": {},
   "source": [
    "### Results of the model on train set"
   ]
  },
  {
   "cell_type": "code",
   "execution_count": 102,
   "metadata": {},
   "outputs": [],
   "source": [
    "Recall_rfc, Auc_rfc, F1_rfc, rfc_pred = evaluate_model(rfc, X_train_, y_train)"
   ]
  },
  {
   "cell_type": "code",
   "execution_count": null,
   "metadata": {},
   "outputs": [],
   "source": [
    "\n",
    "train_results1 = pd.DataFrame([['RandomForest Train', Recall_rfc, Auc_rfc, F1_rfc]], columns = ['Model', 'Recall', 'AUC','F1_score'])\n",
    "train_results1"
   ]
  },
  {
   "cell_type": "markdown",
   "metadata": {},
   "source": [
    "### Results of the model on evaluation set"
   ]
  },
  {
   "cell_type": "code",
   "execution_count": 104,
   "metadata": {},
   "outputs": [],
   "source": [
    "rfc_eval = RandomForestClassifier()"
   ]
  },
  {
   "cell_type": "code",
   "execution_count": null,
   "metadata": {},
   "outputs": [],
   "source": [
    "rfc_eval.fit(X_train_, y_train)"
   ]
  },
  {
   "cell_type": "code",
   "execution_count": 106,
   "metadata": {},
   "outputs": [],
   "source": [
    "Recall_rfc_eval, Auc_rfc_eval, F1_rfc_eval, rfc_eval_pred = evaluate_model(rfc_eval, X_eval_, y_eval)"
   ]
  },
  {
   "cell_type": "code",
   "execution_count": null,
   "metadata": {},
   "outputs": [],
   "source": [
    "eval_results1 = pd.DataFrame([['RandomForest Eval', Recall_rfc_eval, Auc_rfc_eval, F1_rfc_eval]], columns = ['Model', 'Recall', 'AUC','F1_score'])\n",
    "\n",
    "eval_results1\n",
    "\n",
    "combined_results_rfc= pd.concat([train_results1, eval_results1], ignore_index=True)\n",
    "\n",
    "combined_results_rfc"
   ]
  },
  {
   "cell_type": "markdown",
   "metadata": {},
   "source": [
    "## KNeighbors Classifier"
   ]
  },
  {
   "cell_type": "markdown",
   "metadata": {},
   "source": [
    "### Create model"
   ]
  },
  {
   "cell_type": "code",
   "execution_count": 108,
   "metadata": {},
   "outputs": [],
   "source": [
    "knn = KNeighborsClassifier()"
   ]
  },
  {
   "cell_type": "markdown",
   "metadata": {
    "id": "n7CV9W0DmqaW"
   },
   "source": [
    "### Train the Model"
   ]
  },
  {
   "cell_type": "code",
   "execution_count": null,
   "metadata": {
    "id": "uQMdz0JPmqaW"
   },
   "outputs": [],
   "source": [
    "# Use the .fit method\n",
    "knn.fit(X_train_, y_train)"
   ]
  },
  {
   "cell_type": "markdown",
   "metadata": {
    "id": "f1Fb-2_PmqaW"
   },
   "source": [
    "### Evaluate the Model on the Evaluation dataset (Evalset)"
   ]
  },
  {
   "cell_type": "markdown",
   "metadata": {},
   "source": [
    "### Results of the model on train set"
   ]
  },
  {
   "cell_type": "code",
   "execution_count": 110,
   "metadata": {},
   "outputs": [],
   "source": [
    "Recall_knn, Auc_knn, F1_knn, knn_pred = evaluate_model(knn, X_train_, y_train)\n",
    "\n"
   ]
  },
  {
   "cell_type": "code",
   "execution_count": null,
   "metadata": {},
   "outputs": [],
   "source": [
    "train_results2 = pd.DataFrame([['KNeighbors Train', Recall_knn, Auc_knn, F1_knn]], columns = ['Model', 'Recall', 'AUC','F1_score'])\n",
    "train_results2"
   ]
  },
  {
   "cell_type": "code",
   "execution_count": 112,
   "metadata": {
    "id": "oz3-pxgDmqaW"
   },
   "outputs": [],
   "source": [
    "# Compute the valid metrics for the use case # Optional: show the classification report \n",
    "# accuracy_knn, precision_knn, recall_knn, F1_knn, F2_knn, knn_pred = evaluate_model(knn, X_eval_, y_eval)"
   ]
  },
  {
   "cell_type": "markdown",
   "metadata": {},
   "source": [
    "### Results of the model on evaluation set"
   ]
  },
  {
   "cell_type": "code",
   "execution_count": 113,
   "metadata": {},
   "outputs": [],
   "source": [
    "knn_eval = KNeighborsClassifier()\n"
   ]
  },
  {
   "cell_type": "code",
   "execution_count": null,
   "metadata": {},
   "outputs": [],
   "source": [
    "knn_eval.fit(X_train_, y_train)"
   ]
  },
  {
   "cell_type": "code",
   "execution_count": 115,
   "metadata": {},
   "outputs": [],
   "source": [
    "Recall_knn_eval, Auc_knn_eval, F1_knn_eval, knn_eval_pred = evaluate_model(knn_eval, X_eval_, y_eval)"
   ]
  },
  {
   "cell_type": "code",
   "execution_count": null,
   "metadata": {},
   "outputs": [],
   "source": [
    "\n",
    "eval_results2 = pd.DataFrame([['KNeighbors Eval', Recall_knn_eval, Auc_knn_eval, F1_knn_eval]], columns = ['Model', 'Recall', 'AUC','F1_score'])\n",
    "\n",
    "eval_results2\n",
    "\n",
    "combined_results_knn= pd.concat([train_results2, eval_results2], ignore_index=True)\n",
    "\n",
    "combined_results_knn"
   ]
  },
  {
   "cell_type": "markdown",
   "metadata": {
    "id": "7-x7GFqxmqaW"
   },
   "source": [
    "### Predict on a unknown dataset (Testset)"
   ]
  },
  {
   "cell_type": "code",
   "execution_count": 117,
   "metadata": {
    "id": "ORaQB1zLmqaW"
   },
   "outputs": [],
   "source": [
    "# Use .predict method # .predict_proba is available just for classification"
   ]
  },
  {
   "cell_type": "markdown",
   "metadata": {},
   "source": [
    "## Support Vector Machine"
   ]
  },
  {
   "cell_type": "markdown",
   "metadata": {},
   "source": [
    "### Create model"
   ]
  },
  {
   "cell_type": "code",
   "execution_count": 118,
   "metadata": {},
   "outputs": [],
   "source": [
    "svm = svm.SVC()"
   ]
  },
  {
   "cell_type": "markdown",
   "metadata": {},
   "source": [
    "### Train model"
   ]
  },
  {
   "cell_type": "code",
   "execution_count": null,
   "metadata": {},
   "outputs": [],
   "source": [
    "# Use the .fit method\n",
    "svm.fit(X_train_, y_train)"
   ]
  },
  {
   "cell_type": "markdown",
   "metadata": {},
   "source": [
    "### Evaluate the Model on the Evaluation dataset (Evalset)"
   ]
  },
  {
   "cell_type": "markdown",
   "metadata": {},
   "source": [
    "### Results of the model on train set"
   ]
  },
  {
   "cell_type": "code",
   "execution_count": 120,
   "metadata": {},
   "outputs": [],
   "source": [
    "Recall_svm, Auc_svm, F1_svm, svm_pred = evaluate_model(svm, X_train_, y_train)"
   ]
  },
  {
   "cell_type": "code",
   "execution_count": null,
   "metadata": {},
   "outputs": [],
   "source": [
    "train_results3 = pd.DataFrame([['SVM Train',Recall_svm, Auc_svm, F1_svm]], columns = ['Model', 'Recall', 'AUC','F1_score'])\n",
    "train_results3"
   ]
  },
  {
   "cell_type": "markdown",
   "metadata": {},
   "source": [
    "### Results of the model on evaluation set"
   ]
  },
  {
   "cell_type": "code",
   "execution_count": 122,
   "metadata": {},
   "outputs": [],
   "source": [
    "Recall_svm_eval, Auc_svm_eval, F1_svm_eval, svm_eval_pred = evaluate_model(svm, X_eval_, y_eval)\n"
   ]
  },
  {
   "cell_type": "code",
   "execution_count": null,
   "metadata": {},
   "outputs": [],
   "source": [
    "eval_results3 = pd.DataFrame([['SVM Eval', Recall_svm_eval, Auc_svm_eval, F1_svm_eval]], columns = ['Model', 'Recall', 'AUC','F1_score'])\n",
    "\n",
    "eval_results3\n",
    "\n",
    "combined_results_SVM= pd.concat([train_results3, eval_results3], ignore_index=True)\n",
    "\n",
    "combined_results_SVM"
   ]
  },
  {
   "cell_type": "markdown",
   "metadata": {},
   "source": [
    "### Predict on a unknown dataset (Testset)"
   ]
  },
  {
   "cell_type": "code",
   "execution_count": 124,
   "metadata": {},
   "outputs": [],
   "source": [
    "# Use .predict method # .predict_proba is available just for classification"
   ]
  },
  {
   "cell_type": "markdown",
   "metadata": {},
   "source": [
    "## Logistic Regression"
   ]
  },
  {
   "cell_type": "markdown",
   "metadata": {},
   "source": [
    "### Create model"
   ]
  },
  {
   "cell_type": "code",
   "execution_count": 125,
   "metadata": {},
   "outputs": [],
   "source": [
    "lgr_model = LogisticRegression()"
   ]
  },
  {
   "cell_type": "markdown",
   "metadata": {},
   "source": [
    "### Train model"
   ]
  },
  {
   "cell_type": "code",
   "execution_count": null,
   "metadata": {},
   "outputs": [],
   "source": [
    "# Use the .fit method\n",
    "lgr_model.fit(X_train_, y_train)"
   ]
  },
  {
   "cell_type": "markdown",
   "metadata": {},
   "source": [
    "### Evaluate the Model on the Evaluation dataset (Evalset)"
   ]
  },
  {
   "cell_type": "markdown",
   "metadata": {},
   "source": [
    "### Results of the model on train set"
   ]
  },
  {
   "cell_type": "code",
   "execution_count": 127,
   "metadata": {},
   "outputs": [],
   "source": [
    "Recall_lgr_model, Auc_lgr_model, F1_lgr_model, lgr_model_pred = evaluate_model(lgr_model, X_train_, y_train)"
   ]
  },
  {
   "cell_type": "code",
   "execution_count": null,
   "metadata": {},
   "outputs": [],
   "source": [
    "train_results4 = pd.DataFrame([['LGR Train', Recall_lgr_model, Auc_lgr_model, F1_lgr_model]], columns = ['Model', 'Recall', 'AUC','F1_score'])\n",
    "train_results4"
   ]
  },
  {
   "cell_type": "markdown",
   "metadata": {},
   "source": [
    "### Results of the model on evaluation set"
   ]
  },
  {
   "cell_type": "code",
   "execution_count": 129,
   "metadata": {},
   "outputs": [],
   "source": [
    "Recall_lgr_model_eval, Auc_lgr_model_eval, F1_lgr_model_eval, lgr_model_eval_pred = evaluate_model(lgr_model, X_eval_, y_eval)"
   ]
  },
  {
   "cell_type": "code",
   "execution_count": null,
   "metadata": {},
   "outputs": [],
   "source": [
    "eval_results4 = pd.DataFrame([['LGR Eval', Recall_lgr_model_eval, Auc_lgr_model_eval, F1_lgr_model_eval]], columns = ['Model', 'Recall', 'AUC','F1_score'])\n",
    "\n",
    "eval_results4\n",
    "\n",
    "combined_results_LGR= pd.concat([train_results4, eval_results4], ignore_index=True)\n",
    "\n",
    "combined_results_LGR"
   ]
  },
  {
   "cell_type": "markdown",
   "metadata": {},
   "source": [
    "### Predict on a unknown dataset (Testset)"
   ]
  },
  {
   "cell_type": "code",
   "execution_count": 131,
   "metadata": {},
   "outputs": [],
   "source": [
    "# Use .predict method # .predict_proba is available just for classification"
   ]
  },
  {
   "cell_type": "code",
   "execution_count": 132,
   "metadata": {},
   "outputs": [],
   "source": [
    "# Model_results=pd.concat([ combined_results_dclf, combined_results_rfc, combined_results_knn, combined_results_SVM, combined_results_LGR], ignore_index=True)\n",
    "\n",
    "# Model_results"
   ]
  },
  {
   "cell_type": "markdown",
   "metadata": {
    "id": "S73ZUqkUmyz_"
   },
   "source": [
    "## Models comparison\n",
    "Create a pandas dataframe that will allow you to compare your models.\n",
    "\n",
    "Find a sample frame below :\n",
    "\n",
    "|     | Model_Name     | Metric (metric_name)    | Details  |\n",
    "|:---:|:--------------:|:--------------:|:-----------------:|\n",
    "| 0   |  -             |  -             | -                 |\n",
    "| 1   |  -             |  -             | -                 |\n",
    "\n",
    "\n",
    "You might use the pandas dataframe method `.sort_values()` to sort the dataframe regarding the metric."
   ]
  },
  {
   "cell_type": "code",
   "execution_count": null,
   "metadata": {},
   "outputs": [],
   "source": [
    "#combining all the trained models\n",
    "Model_comparison=pd.concat([eval_results, eval_results1, eval_results2, eval_results3, eval_results4], ignore_index=True)\n",
    "Model_comparison"
   ]
  },
  {
   "cell_type": "code",
   "execution_count": 134,
   "metadata": {},
   "outputs": [],
   "source": [
    "#renaming model names\n",
    "\n",
    "replacement_mapping = {'Decision Tree Eval': 'DecisionTree Classifier', \n",
    "                       'RandomForest Eval':'RandomForest Classifier','KNeighbors Eval': 'KNeighbors' ,\n",
    "                       'SVM Eval':'Support Vector Machine', 'LGR Eval':'Logistic Regression'}\n",
    "\n",
    "Model_comparison['Model'] = Model_comparison['Model'].replace(replacement_mapping)\n",
    "\n"
   ]
  },
  {
   "cell_type": "code",
   "execution_count": 135,
   "metadata": {},
   "outputs": [],
   "source": [
    "# Model_comparison"
   ]
  },
  {
   "cell_type": "code",
   "execution_count": null,
   "metadata": {},
   "outputs": [],
   "source": [
    "#Sorting by AUC metric\n",
    "Model_comparison=  Model_comparison.sort_values(by='AUC', ascending=False)\n",
    "Model_comparison.set_index('Model', inplace =True)\n",
    "\n",
    "Model_comparison"
   ]
  },
  {
   "cell_type": "code",
   "execution_count": null,
   "metadata": {
    "id": "jpwLiOo9pVIQ"
   },
   "outputs": [],
   "source": [
    "# plot the bar chart\n",
    "ax = Model_comparison.plot(kind='bar', figsize=(10, 6))\n",
    "\n",
    "# set the title and labels\n",
    "ax.set_title('Model Performance Comparison', fontsize=18)\n",
    "ax.set_xlabel('Metrics', fontsize=14)\n",
    "ax.set_ylabel('Scores', fontsize=14)\n",
    "\n",
    "# set the legend\n",
    "ax.legend(fontsize=7)\n",
    "\n",
    "# show the plot\n",
    "plt.show()"
   ]
  },
  {
   "cell_type": "markdown",
   "metadata": {
    "id": "ezmrABneph31"
   },
   "source": [
    "## Hyperparameters tuning \n",
    "\n",
    "Fine-tune the Top-k models (3 < k < 5) using a ` GridSearchCV`  (that is in sklearn.model_selection\n",
    ") to find the best hyperparameters and achieve the maximum performance of each of the Top-k models, then compare them again to select the best one."
   ]
  },
  {
   "cell_type": "markdown",
   "metadata": {
    "id": "FpTEDK9RrlRl"
   },
   "source": [
    "### Support Vector Machine"
   ]
  },
  {
   "cell_type": "code",
   "execution_count": null,
   "metadata": {},
   "outputs": [],
   "source": [
    "# defining parameter grid\n",
    "param_grid = {'C': [0.1, 1, 10, 100, 1000], \n",
    "              'gamma': [1, 0.1, 0.01, 0.001, 0.0001],\n",
    "              'kernel': ['rbf']} \n",
    "  \n",
    "grid = GridSearchCV(svm, param_grid, refit = True, verbose = 3)\n",
    "  \n",
    "# fitting the model for grid search\n",
    "grid.fit(X_train_, y_train)\n"
   ]
  },
  {
   "cell_type": "code",
   "execution_count": 139,
   "metadata": {},
   "outputs": [],
   "source": [
    "#the best estimator is automatically refit on the entire training dataset\n",
    "# best_estimator = grid.best_estimator_"
   ]
  },
  {
   "cell_type": "code",
   "execution_count": null,
   "metadata": {},
   "outputs": [],
   "source": []
  },
  {
   "cell_type": "code",
   "execution_count": null,
   "metadata": {},
   "outputs": [],
   "source": [
    " #print best parameter after tuning\n",
    "# print(grid.best_params_)\n",
    "  \n",
    "# print how our model looks after hyper-parameter tuning\n",
    "print(grid.best_estimator_)"
   ]
  },
  {
   "cell_type": "code",
   "execution_count": 141,
   "metadata": {},
   "outputs": [],
   "source": [
    "def hyper_model(grid, test, y_true):\n",
    "    grid_predictions = best_estimator.predict(test)\n",
    "    F1 = f1_score(y_true, grid_predictions)\n",
    "    Recall = recall_score(y_true, grid_predictions)\n",
    "    AUC = roc_auc_score(y_true, grid_predictions)\n",
    "    \n",
    " \n",
    "   \n",
    "    return Recall, AUC, F1, grid_predictions"
   ]
  },
  {
   "cell_type": "code",
   "execution_count": 142,
   "metadata": {},
   "outputs": [],
   "source": [
    "Recall_svm, Auc_svm, F1_svm, svm_grid_predictions = hyper_model(grid, X_eval_, y_eval)"
   ]
  },
  {
   "cell_type": "code",
   "execution_count": null,
   "metadata": {},
   "outputs": [],
   "source": [
    "hyper_results = pd.DataFrame([['Support Vector Machine', Recall_svm, Auc_svm, F1_svm]], columns = ['Model', 'Recall', 'AUC','F1_score'])\n",
    "\n",
    "hyper_results"
   ]
  },
  {
   "cell_type": "code",
   "execution_count": 144,
   "metadata": {},
   "outputs": [],
   "source": [
    "# grid_predictions = grid.predict(X_eval_)\n",
    "  \n",
    "# # print classification report\n",
    "# print(classification_report(y_eval, grid_predictions))"
   ]
  },
  {
   "cell_type": "code",
   "execution_count": 145,
   "metadata": {},
   "outputs": [],
   "source": [
    "# eval_results3 = pd.DataFrame([['SVM Eval', Recall_svm_eval, Auc_svm_eval, F1_svm_eval]], columns = ['Model', 'Recall', 'AUC','F1_score'])\n",
    "\n",
    "# eval_results3"
   ]
  },
  {
   "cell_type": "markdown",
   "metadata": {},
   "source": [
    "### Logistic Regression"
   ]
  },
  {
   "cell_type": "code",
   "execution_count": null,
   "metadata": {},
   "outputs": [],
   "source": [
    "#defining parameter grid\n",
    "params = {\n",
    "    'C': [0.001, 0.01, 0.1, 1, 10, 100],\n",
    "    'solver': ['lbfgs', 'liblinear'],\n",
    "    'max_iter': [100, 500, 1000],\n",
    "}\n",
    "\n",
    "\n",
    "grid_lgr= GridSearchCV(lgr_model, params, refit = True, cv=5, verbose=1)\n",
    "\n",
    "# fitting the model for grid search\n",
    "grid_lgr.fit(X_train_, y_train)"
   ]
  },
  {
   "cell_type": "code",
   "execution_count": 147,
   "metadata": {},
   "outputs": [],
   "source": [
    "#the best estimator is automatically refit on the entire training dataset\n",
    "best_estimator = grid_lgr.best_estimator_"
   ]
  },
  {
   "cell_type": "code",
   "execution_count": 148,
   "metadata": {},
   "outputs": [],
   "source": [
    "#  #print best parameter after tuning\n",
    "# print(grid_lgr.best_params_)\n",
    "  \n",
    "# # print how our model looks after hyper-parameter tuning\n",
    "# print(grid_lgr.best_estimator_)"
   ]
  },
  {
   "cell_type": "code",
   "execution_count": 149,
   "metadata": {},
   "outputs": [],
   "source": [
    "Recall_lgr_model, Auc_lgr_model, F1_lgr_model, lgr_model_grid_predictions = hyper_model(grid_lgr, X_eval_, y_eval)"
   ]
  },
  {
   "cell_type": "code",
   "execution_count": null,
   "metadata": {},
   "outputs": [],
   "source": [
    "hyper_results1 = pd.DataFrame([['Logistic Regression', Recall_lgr_model, Auc_lgr_model, F1_lgr_model]], columns = ['Model', 'Recall', 'AUC','F1_score'])\n",
    "\n",
    "hyper_results1"
   ]
  },
  {
   "cell_type": "markdown",
   "metadata": {},
   "source": [
    "### KNeighbors"
   ]
  },
  {
   "cell_type": "code",
   "execution_count": null,
   "metadata": {},
   "outputs": [],
   "source": [
    "# Define the hyperparameter grid\n",
    "param_grid = {'n_neighbors': [3, 5, 7],\n",
    "              'weights': ['uniform', 'distance'],\n",
    "              'metric': ['euclidean', 'manhattan']}\n",
    "\n",
    "\n",
    "grid_knn = GridSearchCV(knn, param_grid, cv=5, refit=True)\n",
    "\n",
    "# fitting the model for grid search\n",
    "grid_knn.fit(X_train_, y_train)"
   ]
  },
  {
   "cell_type": "code",
   "execution_count": 152,
   "metadata": {},
   "outputs": [],
   "source": [
    "#the best estimator is automatically refit on the entire training dataset\n",
    "best_estimator = grid_knn.best_estimator_"
   ]
  },
  {
   "cell_type": "code",
   "execution_count": 153,
   "metadata": {},
   "outputs": [],
   "source": [
    "#  #print best parameter after tuning\n",
    "# print(grid_knn.best_params_)\n",
    "  \n",
    "# # print how our model looks after hyper-parameter tuning\n",
    "# print(grid_knn.best_estimator_)"
   ]
  },
  {
   "cell_type": "code",
   "execution_count": 154,
   "metadata": {},
   "outputs": [],
   "source": [
    "Recall_knn, Auc_knn, F1_knn, knn_grid_predictions = hyper_model(grid_knn, X_eval_, y_eval)"
   ]
  },
  {
   "cell_type": "code",
   "execution_count": null,
   "metadata": {},
   "outputs": [],
   "source": [
    "hyper_results2 = pd.DataFrame([['KNeighbors', Recall_knn, Auc_knn, F1_knn]], columns = ['Model', 'Recall', 'AUC','F1_score'])\n",
    "\n",
    "hyper_results2"
   ]
  },
  {
   "cell_type": "markdown",
   "metadata": {},
   "source": [
    "### RandomForest"
   ]
  },
  {
   "cell_type": "code",
   "execution_count": null,
   "metadata": {},
   "outputs": [],
   "source": [
    "# Define the hyperparameter grid\n",
    "param_grid = {\n",
    "    'n_estimators': [100, 200],\n",
    "    'max_depth': [None, 5, 10],\n",
    "    'min_samples_split': [2, 5],\n",
    "    'min_samples_leaf': [1, 2],\n",
    "    'max_features': ['auto']\n",
    "}\n",
    "\n",
    "grid_rfc = GridSearchCV(rfc, param_grid, cv=3, refit=True)\n",
    "\n",
    "# fitting the model for grid search\n",
    "grid_rfc.fit(X_train_, y_train)"
   ]
  },
  {
   "cell_type": "code",
   "execution_count": 157,
   "metadata": {},
   "outputs": [],
   "source": [
    "#the best estimator is automatically refit on the entire training dataset\n",
    "best_estimator_knn = grid_rfc.best_estimator_"
   ]
  },
  {
   "cell_type": "code",
   "execution_count": 158,
   "metadata": {},
   "outputs": [],
   "source": [
    "#print best parameter after tuning\n",
    "# print(grid_rfc.best_params_)\n",
    "  \n",
    "# # print how our model looks after hyper-parameter tuning\n",
    "# print(grid_rfc.best_estimator_)"
   ]
  },
  {
   "cell_type": "code",
   "execution_count": 159,
   "metadata": {},
   "outputs": [],
   "source": [
    "Recall_rfc, Auc_rfc, F1_rfc, knn_grid_predictions = hyper_model(grid_knn, X_eval_, y_eval)"
   ]
  },
  {
   "cell_type": "code",
   "execution_count": null,
   "metadata": {},
   "outputs": [],
   "source": [
    "hyper_results3 = pd.DataFrame([['RandomForest', Recall_rfc, Auc_rfc, F1_rfc]], columns = ['Model', 'Recall', 'AUC','F1_score'])\n",
    "\n",
    "hyper_results3"
   ]
  },
  {
   "cell_type": "markdown",
   "metadata": {},
   "source": [
    "### DecisionTree"
   ]
  },
  {
   "cell_type": "code",
   "execution_count": 161,
   "metadata": {},
   "outputs": [],
   "source": [
    "param_grid =  {\n",
    "    'min_samples_leaf': [1, 2, 3],\n",
    "    'max_depth': [1, 2, 3]\n",
    "}\n",
    "grid_dclf = GridSearchCV(dclf,param_grid,cv=10,verbose=2, refit=True)\n",
    "                    \n",
    "                    \n",
    "            \n",
    "                    \n"
   ]
  },
  {
   "cell_type": "code",
   "execution_count": null,
   "metadata": {},
   "outputs": [],
   "source": [
    "grid_dclf.fit(X_train_, y_train)"
   ]
  },
  {
   "cell_type": "code",
   "execution_count": 163,
   "metadata": {},
   "outputs": [],
   "source": [
    "#the best estimator is automatically refit on the entire training dataset\n",
    "best_estimator_dclf = grid_dclf.best_estimator_"
   ]
  },
  {
   "cell_type": "code",
   "execution_count": 164,
   "metadata": {},
   "outputs": [],
   "source": [
    "# #print best parameter after tuning\n",
    "# print(grid_dclf.best_params_)\n",
    "  \n",
    "# # print how our model looks after hyper-parameter tuning\n",
    "# print(grid_dclf.best_estimator_)"
   ]
  },
  {
   "cell_type": "code",
   "execution_count": 165,
   "metadata": {},
   "outputs": [],
   "source": [
    "Recall_dclf, Auc_dclf, F1_dclf, dclf_grid_predictions = hyper_model(grid_dclf, X_eval_, y_eval)"
   ]
  },
  {
   "cell_type": "code",
   "execution_count": null,
   "metadata": {},
   "outputs": [],
   "source": [
    "hyper_results4 = pd.DataFrame([['DecisionTree', Recall_dclf, Auc_dclf, F1_dclf]], columns = ['Model', 'Recall', 'AUC','F1_score'])\n",
    "\n",
    "hyper_results4"
   ]
  },
  {
   "cell_type": "markdown",
   "metadata": {},
   "source": [
    "### Combining tuned models"
   ]
  },
  {
   "cell_type": "code",
   "execution_count": null,
   "metadata": {},
   "outputs": [],
   "source": [
    "#combining all the tuned models\n",
    "Hyper_results=pd.concat([hyper_results, hyper_results1, hyper_results2, hyper_results3, hyper_results4], ignore_index=True)\n",
    "Hyper_results"
   ]
  },
  {
   "cell_type": "code",
   "execution_count": null,
   "metadata": {},
   "outputs": [],
   "source": [
    "#Results before performing hyperparameter tuning\n",
    "\n",
    "Model_comparison"
   ]
  },
  {
   "cell_type": "code",
   "execution_count": null,
   "metadata": {},
   "outputs": [],
   "source": [
    "#Results after performing hyperparameter tuning\n",
    "Hyper_results=  Hyper_results.sort_values(by='AUC', ascending=False)\n",
    "Hyper_results.set_index('Model', inplace =True)\n",
    "\n",
    "Hyper_results"
   ]
  },
  {
   "cell_type": "markdown",
   "metadata": {
    "id": "I_7_gsrX2VSk"
   },
   "source": [
    "# Export key components\n",
    "Here is the section to **export** the important ML objects that will be use to develop an app: *Encoder, Scaler, ColumnTransformer, Model, Pipeline, etc*."
   ]
  },
  {
   "cell_type": "code",
   "execution_count": 170,
   "metadata": {
    "id": "32mviWyGAMqP"
   },
   "outputs": [],
   "source": [
    "# Use pickle : put all your key components in a python dictionary and save it as a file that will be loaded in an app"
   ]
  },
  {
   "cell_type": "code",
   "execution_count": 192,
   "metadata": {},
   "outputs": [],
   "source": [
    "# import pickle"
   ]
  },
  {
   "cell_type": "code",
   "execution_count": 193,
   "metadata": {},
   "outputs": [],
   "source": [
    "# Put the key components in a dictionary\n",
    "model_dict = {\"model\": grid.best_estimator_, \"pipeline\": full_pipeline, \"num_pipe\":num_pipeline}"
   ]
  },
  {
   "cell_type": "code",
   "execution_count": 194,
   "metadata": {},
   "outputs": [],
   "source": [
    "# Save the dictionary as a pickle file\n",
    "with open(\"ml_sepsis.pkl\", \"wb\") as f:\n",
    "       pickle.dump(model_dict, f)"
   ]
  },
  {
   "cell_type": "markdown",
   "metadata": {},
   "source": [
    "### Preprocessing the test data to try the model on it"
   ]
  },
  {
   "cell_type": "code",
   "execution_count": 174,
   "metadata": {},
   "outputs": [],
   "source": [
    "# test_data.head()"
   ]
  },
  {
   "cell_type": "code",
   "execution_count": 175,
   "metadata": {},
   "outputs": [],
   "source": [
    "# test_data.isnull().sum()"
   ]
  },
  {
   "cell_type": "code",
   "execution_count": 176,
   "metadata": {},
   "outputs": [],
   "source": [
    "# test = test_data.drop(columns=['ID', 'Insurance'])"
   ]
  },
  {
   "cell_type": "code",
   "execution_count": 177,
   "metadata": {},
   "outputs": [],
   "source": [
    "# test_num = test.columns\n",
    "\n"
   ]
  },
  {
   "cell_type": "code",
   "execution_count": 178,
   "metadata": {},
   "outputs": [],
   "source": [
    "# test_num"
   ]
  },
  {
   "cell_type": "code",
   "execution_count": 179,
   "metadata": {},
   "outputs": [],
   "source": [
    "# num_attribs = list(test_num)"
   ]
  },
  {
   "cell_type": "code",
   "execution_count": 180,
   "metadata": {},
   "outputs": [],
   "source": [
    "#create a numerical pipeline to standardize and impute using median strategy for outliers in the numerical columns\n",
    "# num_pipeline = Pipeline([('imputer',SimpleImputer(strategy=\"median\")),('std_scaler', StandardScaler())])"
   ]
  },
  {
   "cell_type": "code",
   "execution_count": 181,
   "metadata": {},
   "outputs": [],
   "source": [
    "# Create a fullpipeline for numerical pipeline\n",
    "# full_pipeline = ColumnTransformer([(\"numerical\",num_pipeline, num_attribs)], remainder='passthrough')"
   ]
  },
  {
   "cell_type": "code",
   "execution_count": 182,
   "metadata": {},
   "outputs": [],
   "source": [
    "# use create pipeline to transform train and eval features\n",
    "# test_prepared = full_pipeline.transform(test)\n",
    "# test_prepared"
   ]
  },
  {
   "cell_type": "code",
   "execution_count": 183,
   "metadata": {},
   "outputs": [],
   "source": [
    "# test_prepared.shape"
   ]
  },
  {
   "cell_type": "code",
   "execution_count": 184,
   "metadata": {},
   "outputs": [],
   "source": [
    "#re_loading the model\n",
    "# model =pickle.load(open('sepsis.pkl','rb'))\n",
    "# model"
   ]
  },
  {
   "cell_type": "code",
   "execution_count": 185,
   "metadata": {},
   "outputs": [],
   "source": [
    "#  Load the saved model from the pickle file\n",
    "# with open('path/to/saved/model.pkl', 'rb') as file:\n",
    "#     loaded_dict = pickle.load(file)\n",
    "\n",
    "# Extract the model from the dictionary\n",
    "# best_model = model['model']\n",
    "\n",
    "# # Assuming test_data contains your preprocessed test data\n",
    "\n",
    "# best_model"
   ]
  },
  {
   "cell_type": "code",
   "execution_count": 186,
   "metadata": {},
   "outputs": [],
   "source": [
    "#making predictions using the test dataset\n",
    "\n",
    "\n",
    "# predictions=best_model.predict(test_prepared)\n",
    "# predictions"
   ]
  },
  {
   "cell_type": "code",
   "execution_count": 187,
   "metadata": {},
   "outputs": [],
   "source": [
    "# submission = pd.DataFrame( {\"ID\": test_data['ID'], \"Sepsis\": predictions})"
   ]
  },
  {
   "cell_type": "code",
   "execution_count": 188,
   "metadata": {},
   "outputs": [],
   "source": [
    "# submission['Sepsis'] = submission['Sepsis'].map({1: 'Positive', 0: 'Negative'})"
   ]
  },
  {
   "cell_type": "code",
   "execution_count": 189,
   "metadata": {},
   "outputs": [],
   "source": [
    "# submission.to_csv('submission_file.csv', index=False)"
   ]
  }
 ],
 "metadata": {
  "colab": {
   "authorship_tag": "ABX9TyPzYA3kkG0wrKEzgEfn70H+",
   "collapsed_sections": [
    "S73ZUqkUmyz_"
   ],
   "include_colab_link": true,
   "provenance": []
  },
  "kernelspec": {
   "display_name": "base",
   "language": "python",
   "name": "python3"
  },
  "language_info": {
   "codemirror_mode": {
    "name": "ipython",
    "version": 3
   },
   "file_extension": ".py",
   "mimetype": "text/x-python",
   "name": "python",
   "nbconvert_exporter": "python",
   "pygments_lexer": "ipython3",
   "version": "3.12.4"
  }
 },
 "nbformat": 4,
 "nbformat_minor": 1
}
